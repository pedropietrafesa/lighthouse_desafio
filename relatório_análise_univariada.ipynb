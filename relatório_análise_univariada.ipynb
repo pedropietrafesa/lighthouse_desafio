{
 "cells": [
  {
   "cell_type": "markdown",
   "id": "b9290181-f62a-40eb-abab-ba7271c8875a",
   "metadata": {},
   "source": [
    "# Relatório com as principais estatísticas do banco de dados\n",
    "Candidato: Pedro Araújo Pietrafesa"
   ]
  },
  {
   "cell_type": "markdown",
   "id": "0f6b91a0-aa9c-4b0f-840a-6131c430d4f4",
   "metadata": {},
   "source": [
    "Utilizando as variáveis (features), faça um relatório com uma análise das principais estatísticas da base de dados. Descreva graficamente essas variáveis (features), apresentando as suas principais estatísticas descritivas. Comente o porquê da escolha destas estatísticas e o que elas nos informam."
   ]
  },
  {
   "cell_type": "markdown",
   "id": "45383585-1470-452c-9606-61e99c8f616e",
   "metadata": {
    "tags": []
   },
   "source": [
    "# Bibliotecas "
   ]
  },
  {
   "cell_type": "code",
   "execution_count": 154,
   "id": "3d0beda1-6e63-4d15-85bf-3302c3a6286b",
   "metadata": {
    "tags": []
   },
   "outputs": [],
   "source": [
    "import numpy as np\n",
    "import pandas as pd\n",
    "import matplotlib.pyplot as plt\n",
    "import seaborn as sns\n",
    "import missingno as msno\n",
    "import statistics\n",
    "\n",
    "import sklearn.neighbors._base # this is from `scikit-learn` instead of `sklearn`\n",
    "import sys\n",
    "sys.modules['sklearn.neighbors.base'] = sklearn.neighbors._base\n",
    "from missingpy import MissForest # remember to put this after sys.modules"
   ]
  },
  {
   "cell_type": "markdown",
   "id": "1f3c53a9-7ea3-482a-97e8-f3e8bada2d1d",
   "metadata": {},
   "source": [
    "# Baixando o banco de dados\n",
    "## Banco de treinamento "
   ]
  },
  {
   "cell_type": "markdown",
   "id": "3a4cdb60-312f-492d-ae10-0c27089e61ea",
   "metadata": {},
   "source": [
    "A análise das principais estatísticas será realizada no banco de dados de treinamento. O exame das estatísticas observará não só os aspectos de tipologia, tais como dados numéricos ou qualitativos, mas também a distribuição de cada variável,bem como a existência de informações faltantes. "
   ]
  },
  {
   "cell_type": "code",
   "execution_count": 321,
   "id": "03b793be-b13f-4154-9a3e-abbb7a5e7e35",
   "metadata": {},
   "outputs": [],
   "source": [
    "treino = pd.read_csv('https://raw.githubusercontent.com/pedropietrafesa/lighthouse_desafio/main/cars_train.csv')\n"
   ]
  },
  {
   "cell_type": "code",
   "execution_count": 322,
   "id": "8e2c1029-d4d7-4711-9c36-f8ad0b421db4",
   "metadata": {},
   "outputs": [
    {
     "data": {
      "text/html": [
       "<div>\n",
       "<style scoped>\n",
       "    .dataframe tbody tr th:only-of-type {\n",
       "        vertical-align: middle;\n",
       "    }\n",
       "\n",
       "    .dataframe tbody tr th {\n",
       "        vertical-align: top;\n",
       "    }\n",
       "\n",
       "    .dataframe thead th {\n",
       "        text-align: right;\n",
       "    }\n",
       "</style>\n",
       "<table border=\"1\" class=\"dataframe\">\n",
       "  <thead>\n",
       "    <tr style=\"text-align: right;\">\n",
       "      <th></th>\n",
       "      <th>id</th>\n",
       "      <th>num_fotos</th>\n",
       "      <th>marca</th>\n",
       "      <th>modelo</th>\n",
       "      <th>versao</th>\n",
       "      <th>ano_de_fabricacao</th>\n",
       "      <th>ano_modelo</th>\n",
       "      <th>hodometro</th>\n",
       "      <th>cambio</th>\n",
       "      <th>num_portas</th>\n",
       "      <th>...</th>\n",
       "      <th>elegivel_revisao</th>\n",
       "      <th>dono_aceita_troca</th>\n",
       "      <th>veiculo_único_dono</th>\n",
       "      <th>revisoes_concessionaria</th>\n",
       "      <th>ipva_pago</th>\n",
       "      <th>veiculo_licenciado</th>\n",
       "      <th>garantia_de_fábrica</th>\n",
       "      <th>revisoes_dentro_agenda</th>\n",
       "      <th>veiculo_alienado</th>\n",
       "      <th>preco</th>\n",
       "    </tr>\n",
       "  </thead>\n",
       "  <tbody>\n",
       "    <tr>\n",
       "      <th>0</th>\n",
       "      <td>300716223898539419613863097469899222392</td>\n",
       "      <td>8.0</td>\n",
       "      <td>NISSAN</td>\n",
       "      <td>KICKS</td>\n",
       "      <td>1.6 16V FLEXSTART SL 4P XTRONIC</td>\n",
       "      <td>2017</td>\n",
       "      <td>2017</td>\n",
       "      <td>67772</td>\n",
       "      <td>CVT</td>\n",
       "      <td>4</td>\n",
       "      <td>...</td>\n",
       "      <td>False</td>\n",
       "      <td>NaN</td>\n",
       "      <td>NaN</td>\n",
       "      <td>Todas as revisões feitas pela concessionária</td>\n",
       "      <td>IPVA pago</td>\n",
       "      <td>Licenciado</td>\n",
       "      <td>NaN</td>\n",
       "      <td>NaN</td>\n",
       "      <td>NaN</td>\n",
       "      <td>74732.59008</td>\n",
       "    </tr>\n",
       "    <tr>\n",
       "      <th>1</th>\n",
       "      <td>279639842134129588306469566150288644214</td>\n",
       "      <td>8.0</td>\n",
       "      <td>JEEP</td>\n",
       "      <td>COMPASS</td>\n",
       "      <td>2.0 16V FLEX LIMITED AUTOMÁTICO</td>\n",
       "      <td>2017</td>\n",
       "      <td>2017</td>\n",
       "      <td>62979</td>\n",
       "      <td>Automática</td>\n",
       "      <td>4</td>\n",
       "      <td>...</td>\n",
       "      <td>False</td>\n",
       "      <td>Aceita troca</td>\n",
       "      <td>NaN</td>\n",
       "      <td>NaN</td>\n",
       "      <td>IPVA pago</td>\n",
       "      <td>NaN</td>\n",
       "      <td>NaN</td>\n",
       "      <td>NaN</td>\n",
       "      <td>NaN</td>\n",
       "      <td>81965.33263</td>\n",
       "    </tr>\n",
       "    <tr>\n",
       "      <th>2</th>\n",
       "      <td>56414460810621048900295678236538171981</td>\n",
       "      <td>16.0</td>\n",
       "      <td>KIA</td>\n",
       "      <td>SORENTO</td>\n",
       "      <td>2.4 16V GASOLINA EX 7L AWD AUTOMÁTICO</td>\n",
       "      <td>2018</td>\n",
       "      <td>2019</td>\n",
       "      <td>44070</td>\n",
       "      <td>Automática</td>\n",
       "      <td>4</td>\n",
       "      <td>...</td>\n",
       "      <td>False</td>\n",
       "      <td>Aceita troca</td>\n",
       "      <td>NaN</td>\n",
       "      <td>NaN</td>\n",
       "      <td>NaN</td>\n",
       "      <td>NaN</td>\n",
       "      <td>NaN</td>\n",
       "      <td>NaN</td>\n",
       "      <td>NaN</td>\n",
       "      <td>162824.81450</td>\n",
       "    </tr>\n",
       "    <tr>\n",
       "      <th>3</th>\n",
       "      <td>56862509826849933428086372390159405545</td>\n",
       "      <td>14.0</td>\n",
       "      <td>VOLKSWAGEN</td>\n",
       "      <td>AMAROK</td>\n",
       "      <td>2.0 HIGHLINE 4X4 CD 16V TURBO INTERCOOLER DIES...</td>\n",
       "      <td>2013</td>\n",
       "      <td>2015</td>\n",
       "      <td>85357</td>\n",
       "      <td>Automática</td>\n",
       "      <td>4</td>\n",
       "      <td>...</td>\n",
       "      <td>False</td>\n",
       "      <td>Aceita troca</td>\n",
       "      <td>NaN</td>\n",
       "      <td>NaN</td>\n",
       "      <td>IPVA pago</td>\n",
       "      <td>Licenciado</td>\n",
       "      <td>NaN</td>\n",
       "      <td>NaN</td>\n",
       "      <td>NaN</td>\n",
       "      <td>123681.35890</td>\n",
       "    </tr>\n",
       "    <tr>\n",
       "      <th>4</th>\n",
       "      <td>338980975753200343894519909855598027197</td>\n",
       "      <td>8.0</td>\n",
       "      <td>SSANGYONG</td>\n",
       "      <td>KORANDO</td>\n",
       "      <td>2.0 GLS 4X4 16V TURBO DIESEL 4P AUTOMÁTICO</td>\n",
       "      <td>2013</td>\n",
       "      <td>2015</td>\n",
       "      <td>71491</td>\n",
       "      <td>Automática</td>\n",
       "      <td>4</td>\n",
       "      <td>...</td>\n",
       "      <td>False</td>\n",
       "      <td>NaN</td>\n",
       "      <td>NaN</td>\n",
       "      <td>Todas as revisões feitas pela concessionária</td>\n",
       "      <td>NaN</td>\n",
       "      <td>NaN</td>\n",
       "      <td>Garantia de fábrica</td>\n",
       "      <td>Todas as revisões feitas pela agenda do carro</td>\n",
       "      <td>NaN</td>\n",
       "      <td>82419.76389</td>\n",
       "    </tr>\n",
       "  </tbody>\n",
       "</table>\n",
       "<p>5 rows × 29 columns</p>\n",
       "</div>"
      ],
      "text/plain": [
       "                                        id  num_fotos       marca   modelo  \\\n",
       "0  300716223898539419613863097469899222392        8.0      NISSAN    KICKS   \n",
       "1  279639842134129588306469566150288644214        8.0        JEEP  COMPASS   \n",
       "2   56414460810621048900295678236538171981       16.0         KIA  SORENTO   \n",
       "3   56862509826849933428086372390159405545       14.0  VOLKSWAGEN   AMAROK   \n",
       "4  338980975753200343894519909855598027197        8.0   SSANGYONG  KORANDO   \n",
       "\n",
       "                                              versao  ano_de_fabricacao  \\\n",
       "0                    1.6 16V FLEXSTART SL 4P XTRONIC               2017   \n",
       "1                    2.0 16V FLEX LIMITED AUTOMÁTICO               2017   \n",
       "2              2.4 16V GASOLINA EX 7L AWD AUTOMÁTICO               2018   \n",
       "3  2.0 HIGHLINE 4X4 CD 16V TURBO INTERCOOLER DIES...               2013   \n",
       "4         2.0 GLS 4X4 16V TURBO DIESEL 4P AUTOMÁTICO               2013   \n",
       "\n",
       "   ano_modelo  hodometro      cambio  num_portas  ... elegivel_revisao  \\\n",
       "0        2017      67772         CVT           4  ...            False   \n",
       "1        2017      62979  Automática           4  ...            False   \n",
       "2        2019      44070  Automática           4  ...            False   \n",
       "3        2015      85357  Automática           4  ...            False   \n",
       "4        2015      71491  Automática           4  ...            False   \n",
       "\n",
       "  dono_aceita_troca veiculo_único_dono  \\\n",
       "0               NaN                NaN   \n",
       "1      Aceita troca                NaN   \n",
       "2      Aceita troca                NaN   \n",
       "3      Aceita troca                NaN   \n",
       "4               NaN                NaN   \n",
       "\n",
       "                        revisoes_concessionaria  ipva_pago veiculo_licenciado  \\\n",
       "0  Todas as revisões feitas pela concessionária  IPVA pago         Licenciado   \n",
       "1                                           NaN  IPVA pago                NaN   \n",
       "2                                           NaN        NaN                NaN   \n",
       "3                                           NaN  IPVA pago         Licenciado   \n",
       "4  Todas as revisões feitas pela concessionária        NaN                NaN   \n",
       "\n",
       "   garantia_de_fábrica                         revisoes_dentro_agenda  \\\n",
       "0                  NaN                                            NaN   \n",
       "1                  NaN                                            NaN   \n",
       "2                  NaN                                            NaN   \n",
       "3                  NaN                                            NaN   \n",
       "4  Garantia de fábrica  Todas as revisões feitas pela agenda do carro   \n",
       "\n",
       "   veiculo_alienado         preco  \n",
       "0               NaN   74732.59008  \n",
       "1               NaN   81965.33263  \n",
       "2               NaN  162824.81450  \n",
       "3               NaN  123681.35890  \n",
       "4               NaN   82419.76389  \n",
       "\n",
       "[5 rows x 29 columns]"
      ]
     },
     "execution_count": 322,
     "metadata": {},
     "output_type": "execute_result"
    }
   ],
   "source": [
    "treino.head(5)"
   ]
  },
  {
   "cell_type": "code",
   "execution_count": 319,
   "id": "9904dc75-0817-4e7f-a641-120dad9efda1",
   "metadata": {},
   "outputs": [],
   "source": [
    "teste = pd.read_csv('https://raw.githubusercontent.com/pedropietrafesa/lighthouse_desafio/main/cars_test.csv')"
   ]
  },
  {
   "cell_type": "code",
   "execution_count": 320,
   "id": "1d656822-9463-49fa-a26f-344a6b0226c4",
   "metadata": {},
   "outputs": [
    {
     "data": {
      "text/html": [
       "<div>\n",
       "<style scoped>\n",
       "    .dataframe tbody tr th:only-of-type {\n",
       "        vertical-align: middle;\n",
       "    }\n",
       "\n",
       "    .dataframe tbody tr th {\n",
       "        vertical-align: top;\n",
       "    }\n",
       "\n",
       "    .dataframe thead th {\n",
       "        text-align: right;\n",
       "    }\n",
       "</style>\n",
       "<table border=\"1\" class=\"dataframe\">\n",
       "  <thead>\n",
       "    <tr style=\"text-align: right;\">\n",
       "      <th></th>\n",
       "      <th>id</th>\n",
       "      <th>num_fotos</th>\n",
       "      <th>marca</th>\n",
       "      <th>modelo</th>\n",
       "      <th>versao</th>\n",
       "      <th>ano_de_fabricacao</th>\n",
       "      <th>ano_modelo</th>\n",
       "      <th>hodometro</th>\n",
       "      <th>cambio</th>\n",
       "      <th>num_portas</th>\n",
       "      <th>...</th>\n",
       "      <th>troca</th>\n",
       "      <th>elegivel_revisao</th>\n",
       "      <th>dono_aceita_troca</th>\n",
       "      <th>veiculo_único_dono</th>\n",
       "      <th>revisoes_concessionaria</th>\n",
       "      <th>ipva_pago</th>\n",
       "      <th>veiculo_licenciado</th>\n",
       "      <th>garantia_de_fábrica</th>\n",
       "      <th>revisoes_dentro_agenda</th>\n",
       "      <th>veiculo_alienado</th>\n",
       "    </tr>\n",
       "  </thead>\n",
       "  <tbody>\n",
       "    <tr>\n",
       "      <th>0</th>\n",
       "      <td>13518783164498355150900635905895481162</td>\n",
       "      <td>8.0</td>\n",
       "      <td>NISSAN</td>\n",
       "      <td>VERSA</td>\n",
       "      <td>1.6 16V FLEXSTART V-DRIVE MANUAL</td>\n",
       "      <td>2021</td>\n",
       "      <td>2021</td>\n",
       "      <td>20258</td>\n",
       "      <td>Manual</td>\n",
       "      <td>4</td>\n",
       "      <td>...</td>\n",
       "      <td>False</td>\n",
       "      <td>False</td>\n",
       "      <td>Aceita troca</td>\n",
       "      <td>NaN</td>\n",
       "      <td>NaN</td>\n",
       "      <td>IPVA pago</td>\n",
       "      <td>Licenciado</td>\n",
       "      <td>Garantia de fábrica</td>\n",
       "      <td>NaN</td>\n",
       "      <td>NaN</td>\n",
       "    </tr>\n",
       "    <tr>\n",
       "      <th>1</th>\n",
       "      <td>299896161723793383246777788797566040330</td>\n",
       "      <td>18.0</td>\n",
       "      <td>FIAT</td>\n",
       "      <td>STRADA</td>\n",
       "      <td>1.4 MPI WORKING CS 8V FLEX 2P MANUAL</td>\n",
       "      <td>2021</td>\n",
       "      <td>2021</td>\n",
       "      <td>53045</td>\n",
       "      <td>Manual</td>\n",
       "      <td>2</td>\n",
       "      <td>...</td>\n",
       "      <td>False</td>\n",
       "      <td>False</td>\n",
       "      <td>Aceita troca</td>\n",
       "      <td>Único dono</td>\n",
       "      <td>NaN</td>\n",
       "      <td>IPVA pago</td>\n",
       "      <td>Licenciado</td>\n",
       "      <td>NaN</td>\n",
       "      <td>NaN</td>\n",
       "      <td>NaN</td>\n",
       "    </tr>\n",
       "    <tr>\n",
       "      <th>2</th>\n",
       "      <td>316180649972302128246133616457018378621</td>\n",
       "      <td>8.0</td>\n",
       "      <td>AUDI</td>\n",
       "      <td>Q5</td>\n",
       "      <td>2.0 TFSI GASOLINA BLACK S TRONIC</td>\n",
       "      <td>2018</td>\n",
       "      <td>2019</td>\n",
       "      <td>32486</td>\n",
       "      <td>Automática</td>\n",
       "      <td>4</td>\n",
       "      <td>...</td>\n",
       "      <td>False</td>\n",
       "      <td>False</td>\n",
       "      <td>Aceita troca</td>\n",
       "      <td>NaN</td>\n",
       "      <td>NaN</td>\n",
       "      <td>IPVA pago</td>\n",
       "      <td>NaN</td>\n",
       "      <td>NaN</td>\n",
       "      <td>NaN</td>\n",
       "      <td>NaN</td>\n",
       "    </tr>\n",
       "    <tr>\n",
       "      <th>3</th>\n",
       "      <td>222527157104148385909188217274642813298</td>\n",
       "      <td>16.0</td>\n",
       "      <td>CHEVROLET</td>\n",
       "      <td>CRUZE</td>\n",
       "      <td>1.4 TURBO LT 16V FLEX 4P AUTOMÁTICO</td>\n",
       "      <td>2019</td>\n",
       "      <td>2020</td>\n",
       "      <td>24937</td>\n",
       "      <td>Automática</td>\n",
       "      <td>4</td>\n",
       "      <td>...</td>\n",
       "      <td>False</td>\n",
       "      <td>False</td>\n",
       "      <td>Aceita troca</td>\n",
       "      <td>Único dono</td>\n",
       "      <td>NaN</td>\n",
       "      <td>IPVA pago</td>\n",
       "      <td>Licenciado</td>\n",
       "      <td>NaN</td>\n",
       "      <td>NaN</td>\n",
       "      <td>NaN</td>\n",
       "    </tr>\n",
       "    <tr>\n",
       "      <th>4</th>\n",
       "      <td>160460343059850745858546502614838368036</td>\n",
       "      <td>8.0</td>\n",
       "      <td>FORD</td>\n",
       "      <td>ECOSPORT</td>\n",
       "      <td>1.5 TI-VCT FLEX SE AUTOMÁTICO</td>\n",
       "      <td>2019</td>\n",
       "      <td>2019</td>\n",
       "      <td>62074</td>\n",
       "      <td>Automática</td>\n",
       "      <td>4</td>\n",
       "      <td>...</td>\n",
       "      <td>False</td>\n",
       "      <td>False</td>\n",
       "      <td>Aceita troca</td>\n",
       "      <td>NaN</td>\n",
       "      <td>NaN</td>\n",
       "      <td>IPVA pago</td>\n",
       "      <td>Licenciado</td>\n",
       "      <td>NaN</td>\n",
       "      <td>NaN</td>\n",
       "      <td>NaN</td>\n",
       "    </tr>\n",
       "  </tbody>\n",
       "</table>\n",
       "<p>5 rows × 28 columns</p>\n",
       "</div>"
      ],
      "text/plain": [
       "                                        id  num_fotos      marca    modelo  \\\n",
       "0   13518783164498355150900635905895481162        8.0     NISSAN     VERSA   \n",
       "1  299896161723793383246777788797566040330       18.0       FIAT    STRADA   \n",
       "2  316180649972302128246133616457018378621        8.0       AUDI        Q5   \n",
       "3  222527157104148385909188217274642813298       16.0  CHEVROLET     CRUZE   \n",
       "4  160460343059850745858546502614838368036        8.0       FORD  ECOSPORT   \n",
       "\n",
       "                                 versao  ano_de_fabricacao  ano_modelo  \\\n",
       "0      1.6 16V FLEXSTART V-DRIVE MANUAL               2021        2021   \n",
       "1  1.4 MPI WORKING CS 8V FLEX 2P MANUAL               2021        2021   \n",
       "2      2.0 TFSI GASOLINA BLACK S TRONIC               2018        2019   \n",
       "3   1.4 TURBO LT 16V FLEX 4P AUTOMÁTICO               2019        2020   \n",
       "4         1.5 TI-VCT FLEX SE AUTOMÁTICO               2019        2019   \n",
       "\n",
       "   hodometro      cambio  num_portas  ...  troca elegivel_revisao  \\\n",
       "0      20258      Manual           4  ...  False            False   \n",
       "1      53045      Manual           2  ...  False            False   \n",
       "2      32486  Automática           4  ...  False            False   \n",
       "3      24937  Automática           4  ...  False            False   \n",
       "4      62074  Automática           4  ...  False            False   \n",
       "\n",
       "  dono_aceita_troca veiculo_único_dono revisoes_concessionaria  ipva_pago  \\\n",
       "0      Aceita troca                NaN                     NaN  IPVA pago   \n",
       "1      Aceita troca         Único dono                     NaN  IPVA pago   \n",
       "2      Aceita troca                NaN                     NaN  IPVA pago   \n",
       "3      Aceita troca         Único dono                     NaN  IPVA pago   \n",
       "4      Aceita troca                NaN                     NaN  IPVA pago   \n",
       "\n",
       "  veiculo_licenciado  garantia_de_fábrica  revisoes_dentro_agenda  \\\n",
       "0         Licenciado  Garantia de fábrica                     NaN   \n",
       "1         Licenciado                  NaN                     NaN   \n",
       "2                NaN                  NaN                     NaN   \n",
       "3         Licenciado                  NaN                     NaN   \n",
       "4         Licenciado                  NaN                     NaN   \n",
       "\n",
       "   veiculo_alienado  \n",
       "0               NaN  \n",
       "1               NaN  \n",
       "2               NaN  \n",
       "3               NaN  \n",
       "4               NaN  \n",
       "\n",
       "[5 rows x 28 columns]"
      ]
     },
     "execution_count": 320,
     "metadata": {},
     "output_type": "execute_result"
    }
   ],
   "source": [
    "teste.head()"
   ]
  },
  {
   "cell_type": "markdown",
   "id": "c27e8d8a-1013-4189-b917-f0367a4644bc",
   "metadata": {},
   "source": [
    "# Compreendendo os dados "
   ]
  },
  {
   "cell_type": "markdown",
   "id": "3e3a235c-eef3-4ca7-8e96-77db17bef9d9",
   "metadata": {},
   "source": [
    "Para a compreensão dos dados que serão trabalhados é necessário obter as informações sobre como os dados foram tabulados no dataset. O comando .info() descreve a tipologia da variável e quantos valores não nulos em cada coluna. "
   ]
  },
  {
   "cell_type": "code",
   "execution_count": 157,
   "id": "317b8409-0a36-4fa2-b726-fc4972074edb",
   "metadata": {},
   "outputs": [],
   "source": [
    "pd.set_option('display.max_row', 100)"
   ]
  },
  {
   "cell_type": "code",
   "execution_count": 257,
   "id": "da035d31-6283-4718-a76d-478f3a23efa0",
   "metadata": {},
   "outputs": [
    {
     "name": "stdout",
     "output_type": "stream",
     "text": [
      "<class 'pandas.core.frame.DataFrame'>\n",
      "RangeIndex: 29584 entries, 0 to 29583\n",
      "Data columns (total 29 columns):\n",
      " #   Column                   Non-Null Count  Dtype  \n",
      "---  ------                   --------------  -----  \n",
      " 0   id                       29584 non-null  object \n",
      " 1   num_fotos                29407 non-null  float64\n",
      " 2   marca                    29584 non-null  object \n",
      " 3   modelo                   29584 non-null  object \n",
      " 4   versao                   29584 non-null  object \n",
      " 5   ano_de_fabricacao        29584 non-null  int64  \n",
      " 6   ano_modelo               29584 non-null  int64  \n",
      " 7   hodometro                29584 non-null  int64  \n",
      " 8   cambio                   29584 non-null  object \n",
      " 9   num_portas               29584 non-null  int64  \n",
      " 10  tipo                     29584 non-null  object \n",
      " 11  blindado                 29584 non-null  object \n",
      " 12  cor                      29584 non-null  object \n",
      " 13  tipo_vendedor            29584 non-null  object \n",
      " 14  cidade_vendedor          29584 non-null  object \n",
      " 15  estado_vendedor          29584 non-null  object \n",
      " 16  anunciante               29584 non-null  object \n",
      " 17  entrega_delivery         29584 non-null  bool   \n",
      " 18  troca                    29584 non-null  bool   \n",
      " 19  elegivel_revisao         29584 non-null  bool   \n",
      " 20  dono_aceita_troca        21922 non-null  object \n",
      " 21  veiculo_único_dono       10423 non-null  object \n",
      " 22  revisoes_concessionaria  9172 non-null   object \n",
      " 23  ipva_pago                19659 non-null  object \n",
      " 24  veiculo_licenciado       15906 non-null  object \n",
      " 25  garantia_de_fábrica      4365 non-null   object \n",
      " 26  revisoes_dentro_agenda   5910 non-null   object \n",
      " 27  veiculo_alienado         0 non-null      float64\n",
      " 28  preco                    29584 non-null  float64\n",
      "dtypes: bool(3), float64(3), int64(4), object(19)\n",
      "memory usage: 6.0+ MB\n"
     ]
    }
   ],
   "source": [
    "treino.info()"
   ]
  },
  {
   "cell_type": "markdown",
   "id": "d50323e1-c766-495d-b386-1039791f2533",
   "metadata": {},
   "source": [
    "O _output_ mostra que o conjunto de dados é formado por 29 variáveis e 29.584 observações, sendo, a princípio, 22 qualitativas e 7 quantitativas. As variáveis \"ano_de_fabricacao\" e \"ano_modelo\" estão como numéricas devido a forma de tabulação, contudo, nesta etapa das análises serão transformadas em qualitativa, no formato _object_ para melhor compreensão dos seus respectivos comportamentos. Posteriormente, caso seja necessário, para uso de técnicas de aprendizado de máquina como _Random Forest_, as duas variáveis retornarão ao formato numérico."
   ]
  },
  {
   "cell_type": "markdown",
   "id": "b2041bd2-7e90-41f1-9259-a5fb2fdd5e6c",
   "metadata": {},
   "source": [
    "É possível verificar que algumas variáveis possuem dados faltantes. A variável \"veiculo_alienado\", por exemplo, não tem informação inserida. Para ter visão mais precisa, a tabela a seguir apresenta a soma de linhas sem informações por variável."
   ]
  },
  {
   "cell_type": "code",
   "execution_count": 136,
   "id": "977f5222-4b64-4932-935e-03f4776588f3",
   "metadata": {},
   "outputs": [
    {
     "name": "stdout",
     "output_type": "stream",
     "text": [
      " \n",
      " Total de dados faltantes em cada coluna do dataset: \n",
      "\n",
      " veiculo_alienado           29584\n",
      "garantia_de_fábrica        25219\n",
      "revisoes_dentro_agenda     23674\n",
      "revisoes_concessionaria    20412\n",
      "veiculo_único_dono         19161\n",
      "veiculo_licenciado         13678\n",
      "ipva_pago                   9925\n",
      "dono_aceita_troca           7662\n",
      "num_fotos                    177\n",
      "id                             0\n",
      "estado_vendedor                0\n",
      "elegivel_revisao               0\n",
      "                           ...  \n",
      "cor                            0\n",
      "blindado                       0\n",
      "tipo                           0\n",
      "num_portas                     0\n",
      "cambio                         0\n",
      "hodometro                      0\n",
      "ano_modelo                     0\n",
      "ano_de_fabricacao              0\n",
      "versao                         0\n",
      "modelo                         0\n",
      "marca                          0\n",
      "preco                          0\n",
      "Length: 29, dtype: int64\n"
     ]
    }
   ],
   "source": [
    "print(\" \\n Total de dados faltantes em cada coluna do dataset de treino: \\n\\n\",\n",
    "      treino.isnull().sum().sort_values(ascending = False))"
   ]
  },
  {
   "cell_type": "code",
   "execution_count": 134,
   "id": "b75f8420-f542-4772-8e59-edacfa1bc39e",
   "metadata": {},
   "outputs": [
    {
     "data": {
      "text/plain": [
       "<AxesSubplot:>"
      ]
     },
     "execution_count": 134,
     "metadata": {},
     "output_type": "execute_result"
    },
    {
     "data": {
      "image/png": "[encoded data removed]",
      "text/plain": [
       "<Figure size 1800x720 with 2 Axes>"
      ]
     },
     "metadata": {
      "needs_background": "light"
     },
     "output_type": "display_data"
    }
   ],
   "source": [
    "msno.matrix(treino)"
   ]
  },
  {
   "cell_type": "code",
   "execution_count": 145,
   "id": "1707d87f-833b-467c-95b8-5f663dbc10d3",
   "metadata": {},
   "outputs": [
    {
     "name": "stdout",
     "output_type": "stream",
     "text": [
      "Aceita troca    21922\n",
      "Name: dono_aceita_troca, dtype: int64 \n",
      " Único dono    10423\n",
      "Name: veiculo_único_dono, dtype: int64 \n",
      " Todas as revisões feitas pela concessionária    9172\n",
      "Name: revisoes_concessionaria, dtype: int64 \n",
      " IPVA pago    19659\n",
      "Name: ipva_pago, dtype: int64 \n",
      " Licenciado    15906\n",
      "Name: veiculo_licenciado, dtype: int64 \n",
      " Garantia de fábrica    4365\n",
      "Name: garantia_de_fábrica, dtype: int64 \n",
      " Todas as revisões feitas pela agenda do carro    5910\n",
      "Name: revisoes_dentro_agenda, dtype: int64 \n",
      " False    24523\n",
      "True      5061\n",
      "Name: troca, dtype: int64 \n",
      "\n"
     ]
    }
   ],
   "source": [
    "print(treino.dono_aceita_troca.value_counts(), \"\\n\" ,treino.veiculo_único_dono.value_counts(), \"\\n\",\n",
    "     treino.revisoes_concessionaria.value_counts(), \"\\n\" ,treino.ipva_pago.value_counts(), \"\\n\" ,\n",
    "     treino.veiculo_licenciado.value_counts(), \"\\n\" ,treino.garantia_de_fábrica.value_counts(), \"\\n\" ,\n",
    "     treino.revisoes_dentro_agenda.value_counts(), \"\\n\",treino.troca.value_counts(),\"\\n\" )"
   ]
  },
  {
   "cell_type": "markdown",
   "id": "3c150021-587a-4e81-a43c-0d5a13eff537",
   "metadata": {},
   "source": [
    "Analisando as variáveis que apresentaram valores faltantes, verificou-se a existência de nove _features_ com dados faltantes, sendo oito categorícas e uma numérica. Das variáveis categóricas o banco de dados não deixa claro se a não presença de valor na casela significa o não evento.\n",
    "\n",
    "Por exemplo, na variável \"dono_aceita_troca\", há 7662 caselas em branco. Isto significa que, nos locais onde não há preenchimento, o dono não aceita troca? Ou na tabulação da informação houve um erro técnico e deixou em branco para aquela observação?\n",
    "\n",
    "Os questionamentos são justificáveis, pois na variável \"troca\", que mensura se o veículo já foi trocado anteriormente e não tem valores faltantes, há o preenchimento das duas categorias. \n",
    "\n",
    "Esta é uma questão para se perguntar a empresa de marketplace, pois vai influenciar na análise dos dados. A equipe de cientistas de dados pode sugerir a inserção de informações referentes aos não eventos. "
   ]
  },
  {
   "cell_type": "markdown",
   "id": "aad75e2f-4b03-4251-bcb7-f1990f451c51",
   "metadata": {},
   "source": [
    "Vamos analisar a estrutura dos dados de teste."
   ]
  },
  {
   "cell_type": "code",
   "execution_count": 139,
   "id": "f96bb802-fe59-41ea-9d71-23f3f5464cb6",
   "metadata": {},
   "outputs": [
    {
     "name": "stdout",
     "output_type": "stream",
     "text": [
      "<class 'pandas.core.frame.DataFrame'>\n",
      "RangeIndex: 9862 entries, 0 to 9861\n",
      "Data columns (total 28 columns):\n",
      " #   Column                   Non-Null Count  Dtype  \n",
      "---  ------                   --------------  -----  \n",
      " 0   id                       9862 non-null   object \n",
      " 1   num_fotos                9802 non-null   float64\n",
      " 2   marca                    9862 non-null   object \n",
      " 3   modelo                   9862 non-null   object \n",
      " 4   versao                   9862 non-null   object \n",
      " 5   ano_de_fabricacao        9862 non-null   int64  \n",
      " 6   ano_modelo               9862 non-null   int64  \n",
      " 7   hodometro                9862 non-null   int64  \n",
      " 8   cambio                   9862 non-null   object \n",
      " 9   num_portas               9862 non-null   int64  \n",
      " 10  tipo                     9862 non-null   object \n",
      " 11  blindado                 9862 non-null   object \n",
      " 12  cor                      9862 non-null   object \n",
      " 13  tipo_vendedor            9862 non-null   object \n",
      " 14  cidade_vendedor          9862 non-null   object \n",
      " 15  estado_vendedor          9862 non-null   object \n",
      " 16  anunciante               9862 non-null   object \n",
      " 17  entrega_delivery         9862 non-null   bool   \n",
      " 18  troca                    9862 non-null   bool   \n",
      " 19  elegivel_revisao         9862 non-null   bool   \n",
      " 20  dono_aceita_troca        7308 non-null   object \n",
      " 21  veiculo_único_dono       3475 non-null   object \n",
      " 22  revisoes_concessionaria  3067 non-null   object \n",
      " 23  ipva_pago                6564 non-null   object \n",
      " 24  veiculo_licenciado       5344 non-null   object \n",
      " 25  garantia_de_fábrica      1423 non-null   object \n",
      " 26  revisoes_dentro_agenda   1993 non-null   object \n",
      " 27  veiculo_alienado         0 non-null      float64\n",
      "dtypes: bool(3), float64(2), int64(4), object(19)\n",
      "memory usage: 1.9+ MB\n"
     ]
    }
   ],
   "source": [
    "teste.info()"
   ]
  },
  {
   "cell_type": "code",
   "execution_count": 140,
   "id": "9c06a1ba-4b99-41b4-a371-19f8ffdd7bc7",
   "metadata": {},
   "outputs": [
    {
     "name": "stdout",
     "output_type": "stream",
     "text": [
      " \n",
      " Total de dados faltantes em cada coluna do dataset de teste: \n",
      "\n",
      " veiculo_alienado           9862\n",
      "garantia_de_fábrica        8439\n",
      "revisoes_dentro_agenda     7869\n",
      "revisoes_concessionaria    6795\n",
      "veiculo_único_dono         6387\n",
      "veiculo_licenciado         4518\n",
      "ipva_pago                  3298\n",
      "dono_aceita_troca          2554\n",
      "num_fotos                    60\n",
      "elegivel_revisao              0\n",
      "troca                         0\n",
      "entrega_delivery              0\n",
      "                           ... \n",
      "cor                           0\n",
      "blindado                      0\n",
      "tipo                          0\n",
      "num_portas                    0\n",
      "cambio                        0\n",
      "hodometro                     0\n",
      "ano_modelo                    0\n",
      "ano_de_fabricacao             0\n",
      "versao                        0\n",
      "modelo                        0\n",
      "marca                         0\n",
      "cidade_vendedor               0\n",
      "Length: 28, dtype: int64\n"
     ]
    }
   ],
   "source": [
    "print(\" \\n Total de dados faltantes em cada coluna do dataset de teste: \\n\\n\",\n",
    "      teste.isnull().sum().sort_values(ascending = False))"
   ]
  },
  {
   "cell_type": "code",
   "execution_count": 142,
   "id": "566373df-99ed-4a40-a69e-9f8ed2315599",
   "metadata": {},
   "outputs": [
    {
     "data": {
      "text/plain": [
       "<AxesSubplot:>"
      ]
     },
     "execution_count": 142,
     "metadata": {},
     "output_type": "execute_result"
    },
    {
     "data": {
      "image/png": "[encoded data removed]",
      "text/plain": [
       "<Figure size 1800x720 with 2 Axes>"
      ]
     },
     "metadata": {
      "needs_background": "light"
     },
     "output_type": "display_data"
    }
   ],
   "source": [
    "msno.matrix(teste)"
   ]
  },
  {
   "cell_type": "markdown",
   "id": "24a52c94-9e08-4695-8b65-e3fa7097a409",
   "metadata": {},
   "source": [
    "É possivel observar que na base de dados de teste o mesmo padrão de dados faltantes é encontrado em relação a base de treinamento.\n",
    "\n",
    "De acordo com Emmanuel et al. (2021), a gravidade dos valores faltantes depende em parte da quantidade de dados ausentes, do padrão dos dados ausentes e do mecanismo subjacente à falta de dados. O que pode ocasionar diferentes problemas, como diminuição do desempenho da modelagem e resultados tendenciosos. No estudo realizado pelos autores com os bancos de dados Iris e _novel power plant fan_, disponíveis no repositório _UCI Machine Learning_, verificou-se que os métodos _k nearest neighbor_(KNN) e o _missForest_ tiveram bons resultados em lidar com valores faltantes com o nível de até 20% de _missing values_. \n",
    "\n",
    "Assim, na etapa de construção do modelo de predição, as variáveis acima do percentual de 20% não serão utilizadas. São elas: \n",
    "* dono_aceita_troca;\n",
    "* veiculo_único_dono;\n",
    "* revisoes_concessionaria;\n",
    "* ipva_pago;\n",
    "* veiculo_licenciado;\n",
    "* garantia_de_fábrica;\n",
    "* revisoes_dentro_agenda;\n",
    "* veiculo_alienado.\n",
    "\n",
    "Essas variáveis seriam importantes na precificação dos veículos, uma vez que apresentam o comportamento dos seus respectivos condutores.\n",
    "\n",
    "A variável \"num_fotos\" teve 0,599% de dados faltantes na base de treino. Neste caso, será realizada análise na etapa de EDA para verificar o grau de correlação dessa variável com a _target_ (variável resposta) para concluir se é o caso de imputação de dados, ou não. Sendo necessário, será empreendida a técnica de aprendizado de máquina denominada _missForest_.  \n",
    "\n",
    "\n",
    "https://journalofbigdata.springeropen.com/articles/10.1186/s40537-021-00516-9\n"
   ]
  },
  {
   "cell_type": "markdown",
   "id": "d2a13627-a16e-44af-9aad-b19151125737",
   "metadata": {},
   "source": [
    "## Principais estatísticas das variáveis _features_ "
   ]
  },
  {
   "cell_type": "markdown",
   "id": "f863c734-8509-41f4-8afd-eed8d6774489",
   "metadata": {},
   "source": [
    "O objetivo do analista quando se estuda uma variável é conhecer o seu comportamento, analisando a ocorrência de suas possíveis realizações. Para realizar a análise das variáveis explicativas (_features_), vamos dividir em duas subseções, uma para descrever as variáveis categóricas e a outra as numéricas. "
   ]
  },
  {
   "cell_type": "markdown",
   "id": "718cf33a-be32-4b06-9a8c-ef1cc220cec3",
   "metadata": {},
   "source": [
    "### Variáveis Categóricas"
   ]
  },
  {
   "cell_type": "markdown",
   "id": "89528285-8b0e-413e-b1b3-b51971e6fb01",
   "metadata": {},
   "source": [
    "No que diz respeito as variáveis categóricas, as distribuições de frequência serão o principal recurso  para resumir cada variável. Nesse sentido e vamos trabalhar com tabela de ferquência, gráfico de barras. A tabela de frequência e o gráfico de barras nos informam a ocorrência de cada valor ou intervalo de valor da variável.\n",
    "\n",
    "A apresentação das ferramentas de resumo será feita de acordo com a ordem em que as variáveis categóricas estão no banco de dados.\n",
    "\n",
    "\n"
   ]
  },
  {
   "cell_type": "markdown",
   "id": "e8034989-327b-4f8b-959c-4b20951ed068",
   "metadata": {},
   "source": [
    " #### Marca"
   ]
  },
  {
   "cell_type": "code",
   "execution_count": 227,
   "id": "3a1b6dcd-ba64-4c71-acb3-4f755c21a9e0",
   "metadata": {},
   "outputs": [
    {
     "data": {
      "text/html": [
       "<div>\n",
       "<style scoped>\n",
       "    .dataframe tbody tr th:only-of-type {\n",
       "        vertical-align: middle;\n",
       "    }\n",
       "\n",
       "    .dataframe tbody tr th {\n",
       "        vertical-align: top;\n",
       "    }\n",
       "\n",
       "    .dataframe thead th {\n",
       "        text-align: right;\n",
       "    }\n",
       "</style>\n",
       "<table border=\"1\" class=\"dataframe\">\n",
       "  <thead>\n",
       "    <tr style=\"text-align: right;\">\n",
       "      <th></th>\n",
       "      <th>marca</th>\n",
       "    </tr>\n",
       "  </thead>\n",
       "  <tbody>\n",
       "    <tr>\n",
       "      <th>VOLKSWAGEN</th>\n",
       "      <td>4594</td>\n",
       "    </tr>\n",
       "    <tr>\n",
       "      <th>CHEVROLET</th>\n",
       "      <td>3020</td>\n",
       "    </tr>\n",
       "    <tr>\n",
       "      <th>TOYOTA</th>\n",
       "      <td>2180</td>\n",
       "    </tr>\n",
       "    <tr>\n",
       "      <th>HYUNDAI</th>\n",
       "      <td>2043</td>\n",
       "    </tr>\n",
       "    <tr>\n",
       "      <th>JEEP</th>\n",
       "      <td>2000</td>\n",
       "    </tr>\n",
       "    <tr>\n",
       "      <th>FIAT</th>\n",
       "      <td>1918</td>\n",
       "    </tr>\n",
       "    <tr>\n",
       "      <th>BMW</th>\n",
       "      <td>1784</td>\n",
       "    </tr>\n",
       "    <tr>\n",
       "      <th>AUDI</th>\n",
       "      <td>1698</td>\n",
       "    </tr>\n",
       "    <tr>\n",
       "      <th>PEUGEOT</th>\n",
       "      <td>1675</td>\n",
       "    </tr>\n",
       "    <tr>\n",
       "      <th>HONDA</th>\n",
       "      <td>1586</td>\n",
       "    </tr>\n",
       "    <tr>\n",
       "      <th>MERCEDES-BENZ</th>\n",
       "      <td>1125</td>\n",
       "    </tr>\n",
       "    <tr>\n",
       "      <th>FORD</th>\n",
       "      <td>1060</td>\n",
       "    </tr>\n",
       "    <tr>\n",
       "      <th>MITSUBISHI</th>\n",
       "      <td>862</td>\n",
       "    </tr>\n",
       "    <tr>\n",
       "      <th>LAND ROVER</th>\n",
       "      <td>760</td>\n",
       "    </tr>\n",
       "    <tr>\n",
       "      <th>RENAULT</th>\n",
       "      <td>538</td>\n",
       "    </tr>\n",
       "    <tr>\n",
       "      <th>NISSAN</th>\n",
       "      <td>438</td>\n",
       "    </tr>\n",
       "    <tr>\n",
       "      <th>KIA</th>\n",
       "      <td>408</td>\n",
       "    </tr>\n",
       "    <tr>\n",
       "      <th>PORSCHE</th>\n",
       "      <td>349</td>\n",
       "    </tr>\n",
       "    <tr>\n",
       "      <th>VOLVO</th>\n",
       "      <td>287</td>\n",
       "    </tr>\n",
       "    <tr>\n",
       "      <th>CITROËN</th>\n",
       "      <td>194</td>\n",
       "    </tr>\n",
       "    <tr>\n",
       "      <th>TROLLER</th>\n",
       "      <td>177</td>\n",
       "    </tr>\n",
       "    <tr>\n",
       "      <th>RAM</th>\n",
       "      <td>168</td>\n",
       "    </tr>\n",
       "    <tr>\n",
       "      <th>CHERY</th>\n",
       "      <td>153</td>\n",
       "    </tr>\n",
       "    <tr>\n",
       "      <th>JAGUAR</th>\n",
       "      <td>148</td>\n",
       "    </tr>\n",
       "    <tr>\n",
       "      <th>MINI</th>\n",
       "      <td>137</td>\n",
       "    </tr>\n",
       "    <tr>\n",
       "      <th>LEXUS</th>\n",
       "      <td>75</td>\n",
       "    </tr>\n",
       "    <tr>\n",
       "      <th>SUZUKI</th>\n",
       "      <td>41</td>\n",
       "    </tr>\n",
       "    <tr>\n",
       "      <th>SUBARU</th>\n",
       "      <td>41</td>\n",
       "    </tr>\n",
       "    <tr>\n",
       "      <th>DODGE</th>\n",
       "      <td>37</td>\n",
       "    </tr>\n",
       "    <tr>\n",
       "      <th>CHRYSLER</th>\n",
       "      <td>30</td>\n",
       "    </tr>\n",
       "    <tr>\n",
       "      <th>SSANGYONG</th>\n",
       "      <td>14</td>\n",
       "    </tr>\n",
       "    <tr>\n",
       "      <th>SMART</th>\n",
       "      <td>12</td>\n",
       "    </tr>\n",
       "    <tr>\n",
       "      <th>ALFA ROMEO</th>\n",
       "      <td>9</td>\n",
       "    </tr>\n",
       "    <tr>\n",
       "      <th>LIFAN</th>\n",
       "      <td>8</td>\n",
       "    </tr>\n",
       "    <tr>\n",
       "      <th>MASERATI</th>\n",
       "      <td>7</td>\n",
       "    </tr>\n",
       "    <tr>\n",
       "      <th>JAC</th>\n",
       "      <td>3</td>\n",
       "    </tr>\n",
       "    <tr>\n",
       "      <th>IVECO</th>\n",
       "      <td>2</td>\n",
       "    </tr>\n",
       "    <tr>\n",
       "      <th>EFFA</th>\n",
       "      <td>1</td>\n",
       "    </tr>\n",
       "    <tr>\n",
       "      <th>FERRARI</th>\n",
       "      <td>1</td>\n",
       "    </tr>\n",
       "    <tr>\n",
       "      <th>BRM</th>\n",
       "      <td>1</td>\n",
       "    </tr>\n",
       "  </tbody>\n",
       "</table>\n",
       "</div>"
      ],
      "text/plain": [
       "               marca\n",
       "VOLKSWAGEN      4594\n",
       "CHEVROLET       3020\n",
       "TOYOTA          2180\n",
       "HYUNDAI         2043\n",
       "JEEP            2000\n",
       "FIAT            1918\n",
       "BMW             1784\n",
       "AUDI            1698\n",
       "PEUGEOT         1675\n",
       "HONDA           1586\n",
       "MERCEDES-BENZ   1125\n",
       "FORD            1060\n",
       "MITSUBISHI       862\n",
       "LAND ROVER       760\n",
       "RENAULT          538\n",
       "NISSAN           438\n",
       "KIA              408\n",
       "PORSCHE          349\n",
       "VOLVO            287\n",
       "CITROËN          194\n",
       "TROLLER          177\n",
       "RAM              168\n",
       "CHERY            153\n",
       "JAGUAR           148\n",
       "MINI             137\n",
       "LEXUS             75\n",
       "SUZUKI            41\n",
       "SUBARU            41\n",
       "DODGE             37\n",
       "CHRYSLER          30\n",
       "SSANGYONG         14\n",
       "SMART             12\n",
       "ALFA ROMEO         9\n",
       "LIFAN              8\n",
       "MASERATI           7\n",
       "JAC                3\n",
       "IVECO              2\n",
       "EFFA               1\n",
       "FERRARI            1\n",
       "BRM                1"
      ]
     },
     "execution_count": 227,
     "metadata": {},
     "output_type": "execute_result"
    }
   ],
   "source": [
    "pd.DataFrame(treino['marca'].value_counts(dropna = False))\n"
   ]
  },
  {
   "cell_type": "code",
   "execution_count": 179,
   "id": "a2af2d82-2ca7-4f5b-a5fe-1f215963ccec",
   "metadata": {},
   "outputs": [
    {
     "data": {
      "text/plain": [
       "Text(0, 0.5, 'Frequência')"
      ]
     },
     "execution_count": 179,
     "metadata": {},
     "output_type": "execute_result"
    },
    {
     "data": {
      "image/png": "[encoded data removed]",
      "text/plain": [
       "<Figure size 432x288 with 1 Axes>"
      ]
     },
     "metadata": {
      "needs_background": "light"
     },
     "output_type": "display_data"
    }
   ],
   "source": [
    "treino['marca'].value_counts().plot(kind = 'bar')\n",
    "plt.xlabel('Marca')\n",
    "plt.ylabel('Frequência')"
   ]
  },
  {
   "cell_type": "code",
   "execution_count": 155,
   "id": "14325df5-664d-4e6c-84e6-5213c64af31d",
   "metadata": {},
   "outputs": [
    {
     "data": {
      "text/plain": [
       "'VOLKSWAGEN'"
      ]
     },
     "execution_count": 155,
     "metadata": {},
     "output_type": "execute_result"
    }
   ],
   "source": [
    "statistics.mode(treino['marca'])"
   ]
  },
  {
   "cell_type": "markdown",
   "id": "e8e3f353-3f4f-443a-b421-6eb8b2fb3720",
   "metadata": {},
   "source": [
    "Há 40 marcas de carros diferentes no dataset, sendo a que tem o maior número de carros a venda é a Volkswagen. Com o número de categorias nesta variável, para a modelagem será necessário realizar transformação no dados, agrupando as marcas por meio de algum critério que será especificado na etapa da EDA."
   ]
  },
  {
   "cell_type": "markdown",
   "id": "9b311e81-7b79-47ad-bb93-ef6f3543a730",
   "metadata": {},
   "source": [
    "#### Modelo"
   ]
  },
  {
   "cell_type": "code",
   "execution_count": 226,
   "id": "1dea6fd5-2e36-47d8-9b07-4f3472313822",
   "metadata": {},
   "outputs": [
    {
     "data": {
      "text/html": [
       "<div>\n",
       "<style scoped>\n",
       "    .dataframe tbody tr th:only-of-type {\n",
       "        vertical-align: middle;\n",
       "    }\n",
       "\n",
       "    .dataframe tbody tr th {\n",
       "        vertical-align: top;\n",
       "    }\n",
       "\n",
       "    .dataframe thead th {\n",
       "        text-align: right;\n",
       "    }\n",
       "</style>\n",
       "<table border=\"1\" class=\"dataframe\">\n",
       "  <thead>\n",
       "    <tr style=\"text-align: right;\">\n",
       "      <th></th>\n",
       "      <th>modelo</th>\n",
       "    </tr>\n",
       "  </thead>\n",
       "  <tbody>\n",
       "    <tr>\n",
       "      <th>COMPASS</th>\n",
       "      <td>1480</td>\n",
       "    </tr>\n",
       "    <tr>\n",
       "      <th>2008</th>\n",
       "      <td>1431</td>\n",
       "    </tr>\n",
       "    <tr>\n",
       "      <th>Q3</th>\n",
       "      <td>914</td>\n",
       "    </tr>\n",
       "    <tr>\n",
       "      <th>TORO</th>\n",
       "      <td>902</td>\n",
       "    </tr>\n",
       "    <tr>\n",
       "      <th>COROLLA</th>\n",
       "      <td>867</td>\n",
       "    </tr>\n",
       "    <tr>\n",
       "      <th>...</th>\n",
       "      <td>...</td>\n",
       "    </tr>\n",
       "    <tr>\n",
       "      <th>X-TRAIL</th>\n",
       "      <td>1</td>\n",
       "    </tr>\n",
       "    <tr>\n",
       "      <th>QUATTROPORTE</th>\n",
       "      <td>1</td>\n",
       "    </tr>\n",
       "    <tr>\n",
       "      <th>ES</th>\n",
       "      <td>1</td>\n",
       "    </tr>\n",
       "    <tr>\n",
       "      <th>S4</th>\n",
       "      <td>1</td>\n",
       "    </tr>\n",
       "    <tr>\n",
       "      <th>SLK 230</th>\n",
       "      <td>1</td>\n",
       "    </tr>\n",
       "  </tbody>\n",
       "</table>\n",
       "<p>457 rows × 1 columns</p>\n",
       "</div>"
      ],
      "text/plain": [
       "              modelo\n",
       "COMPASS         1480\n",
       "2008            1431\n",
       "Q3               914\n",
       "TORO             902\n",
       "COROLLA          867\n",
       "...              ...\n",
       "X-TRAIL            1\n",
       "QUATTROPORTE       1\n",
       "ES                 1\n",
       "S4                 1\n",
       "SLK 230            1\n",
       "\n",
       "[457 rows x 1 columns]"
      ]
     },
     "execution_count": 226,
     "metadata": {},
     "output_type": "execute_result"
    }
   ],
   "source": [
    "pd.DataFrame(treino['modelo'].value_counts(dropna = False))"
   ]
  },
  {
   "cell_type": "markdown",
   "id": "6e29c5b5-2e94-447d-ae86-06f386ed8fb4",
   "metadata": {},
   "source": [
    "No banco de dados são 457 modelos de carro anunciados. Os cinco modelos mais citados nos anuncios são, respectivamente, das marcas Jeep, Peugeot, Audi, Fiat e Toyota. Essas marcas estão entre as dez mais anunciadas, sendo o Compass da Jeep com maior frequência."
   ]
  },
  {
   "cell_type": "markdown",
   "id": "86c2c610-8a92-4af0-870e-ae38a28537a7",
   "metadata": {},
   "source": [
    "#### Versão"
   ]
  },
  {
   "cell_type": "code",
   "execution_count": 312,
   "id": "22375ded-4b96-47b5-bd0d-58b67f4526a2",
   "metadata": {},
   "outputs": [
    {
     "data": {
      "text/html": [
       "<div>\n",
       "<style scoped>\n",
       "    .dataframe tbody tr th:only-of-type {\n",
       "        vertical-align: middle;\n",
       "    }\n",
       "\n",
       "    .dataframe tbody tr th {\n",
       "        vertical-align: top;\n",
       "    }\n",
       "\n",
       "    .dataframe thead th {\n",
       "        text-align: right;\n",
       "    }\n",
       "</style>\n",
       "<table border=\"1\" class=\"dataframe\">\n",
       "  <thead>\n",
       "    <tr style=\"text-align: right;\">\n",
       "      <th></th>\n",
       "      <th>versao</th>\n",
       "    </tr>\n",
       "  </thead>\n",
       "  <tbody>\n",
       "    <tr>\n",
       "      <th>1.6 16V FLEX ALLURE PACK 4P AUTOMÁTICO</th>\n",
       "      <td>1352</td>\n",
       "    </tr>\n",
       "    <tr>\n",
       "      <th>2.0 16V FLEX LIMITED AUTOMÁTICO</th>\n",
       "      <td>1032</td>\n",
       "    </tr>\n",
       "    <tr>\n",
       "      <th>2.0 TFSI AMBIENTE QUATTRO 4P GASOLINA S TRONIC</th>\n",
       "      <td>757</td>\n",
       "    </tr>\n",
       "    <tr>\n",
       "      <th>1.0 200 TSI COMFORTLINE AUTOMÁTICO</th>\n",
       "      <td>466</td>\n",
       "    </tr>\n",
       "    <tr>\n",
       "      <th>2.0 HIGHLINE 4X4 CD 16V TURBO INTERCOOLER DIESEL 4P AUTOMÁTICO</th>\n",
       "      <td>429</td>\n",
       "    </tr>\n",
       "    <tr>\n",
       "      <th>...</th>\n",
       "      <td>...</td>\n",
       "    </tr>\n",
       "    <tr>\n",
       "      <th>1.0 SV 12V FLEX 4P MANUAL</th>\n",
       "      <td>1</td>\n",
       "    </tr>\n",
       "    <tr>\n",
       "      <th>1.5 i-VTEC FLEX TOURING CVT</th>\n",
       "      <td>1</td>\n",
       "    </tr>\n",
       "    <tr>\n",
       "      <th>1.6 SE SEDAN 16V FLEX 4P MANUAL</th>\n",
       "      <td>1</td>\n",
       "    </tr>\n",
       "    <tr>\n",
       "      <th>1.0 EX 12V GASOLINA 4P AUTOMÁTICO</th>\n",
       "      <td>1</td>\n",
       "    </tr>\n",
       "    <tr>\n",
       "      <th>1.3 CGI GASOLINA PROGRESSIVE 7G-DCT</th>\n",
       "      <td>1</td>\n",
       "    </tr>\n",
       "  </tbody>\n",
       "</table>\n",
       "<p>1916 rows × 1 columns</p>\n",
       "</div>"
      ],
      "text/plain": [
       "                                                    versao\n",
       "1.6 16V FLEX ALLURE PACK 4P AUTOMÁTICO                1352\n",
       "2.0 16V FLEX LIMITED AUTOMÁTICO                       1032\n",
       "2.0 TFSI AMBIENTE QUATTRO 4P GASOLINA S TRONIC         757\n",
       "1.0 200 TSI COMFORTLINE AUTOMÁTICO                     466\n",
       "2.0 HIGHLINE 4X4 CD 16V TURBO INTERCOOLER DIESE...     429\n",
       "...                                                    ...\n",
       "1.0 SV 12V FLEX 4P MANUAL                                1\n",
       "1.5 i-VTEC FLEX TOURING CVT                              1\n",
       "1.6 SE SEDAN 16V FLEX 4P MANUAL                          1\n",
       "1.0 EX 12V GASOLINA 4P AUTOMÁTICO                        1\n",
       "1.3 CGI GASOLINA PROGRESSIVE 7G-DCT                      1\n",
       "\n",
       "[1916 rows x 1 columns]"
      ]
     },
     "execution_count": 312,
     "metadata": {},
     "output_type": "execute_result"
    }
   ],
   "source": [
    "pd.DataFrame(treino['versao'].value_counts(dropna = False))\n"
   ]
  },
  {
   "cell_type": "markdown",
   "id": "728d1c8c-a0ee-4113-ac8c-6da30e79ab40",
   "metadata": {},
   "source": [
    "A variável \"versao\" possui 1916 subcategorias, a mais frequênte é a \"1.6 16V FLEX ALLURE PACK 4P AUTOMÁTICO\" que pode ser encontrada nos carros 208 e 2008 da Peugoet.  "
   ]
  },
  {
   "cell_type": "markdown",
   "id": "16c018a4-066c-4627-8622-240529f4606e",
   "metadata": {},
   "source": [
    "#### Variáveis referentes aos anos de fabricação do carro e do modelo"
   ]
  },
  {
   "cell_type": "markdown",
   "id": "bb01fc62-3c24-48b8-99d2-8c9126e617c2",
   "metadata": {},
   "source": [
    "Estas variáveis foram inseridas no banco de dados como numéricas. Apesar do tipo de codificação, elas trazer uma perspectiva de qualificação, no caso ano de fabricação do carro ou do modelo. Desta forma, para efeitos de conhecimento do dataset, vamos transformá-las para o tipo objeto. Na proposição do modelo de precificação trabalharemos como _integer_."
   ]
  },
  {
   "cell_type": "code",
   "execution_count": 291,
   "id": "5224dab4-0e92-4d32-81f3-cd138e24d326",
   "metadata": {},
   "outputs": [],
   "source": [
    "treino['ano_de_fabricacao'] = treino['ano_de_fabricacao'].astype(object)\n",
    "treino['ano_modelo'] = treino['ano_modelo'].astype(object)"
   ]
  },
  {
   "cell_type": "markdown",
   "id": "10225f98-e491-4617-bd4b-6628d11e59b7",
   "metadata": {},
   "source": [
    "##### Ano de Fabricação"
   ]
  },
  {
   "cell_type": "code",
   "execution_count": 264,
   "id": "a7df9c03-3247-4295-9252-70854ea4b80e",
   "metadata": {},
   "outputs": [
    {
     "data": {
      "text/html": [
       "<div>\n",
       "<style scoped>\n",
       "    .dataframe tbody tr th:only-of-type {\n",
       "        vertical-align: middle;\n",
       "    }\n",
       "\n",
       "    .dataframe tbody tr th {\n",
       "        vertical-align: top;\n",
       "    }\n",
       "\n",
       "    .dataframe thead th {\n",
       "        text-align: right;\n",
       "    }\n",
       "</style>\n",
       "<table border=\"1\" class=\"dataframe\">\n",
       "  <thead>\n",
       "    <tr style=\"text-align: right;\">\n",
       "      <th></th>\n",
       "      <th>ano_de_fabricacao</th>\n",
       "    </tr>\n",
       "  </thead>\n",
       "  <tbody>\n",
       "    <tr>\n",
       "      <th>2022</th>\n",
       "      <td>37</td>\n",
       "    </tr>\n",
       "    <tr>\n",
       "      <th>2021</th>\n",
       "      <td>2614</td>\n",
       "    </tr>\n",
       "    <tr>\n",
       "      <th>2020</th>\n",
       "      <td>4729</td>\n",
       "    </tr>\n",
       "    <tr>\n",
       "      <th>2019</th>\n",
       "      <td>3880</td>\n",
       "    </tr>\n",
       "    <tr>\n",
       "      <th>2018</th>\n",
       "      <td>3820</td>\n",
       "    </tr>\n",
       "    <tr>\n",
       "      <th>2017</th>\n",
       "      <td>4369</td>\n",
       "    </tr>\n",
       "    <tr>\n",
       "      <th>2016</th>\n",
       "      <td>1822</td>\n",
       "    </tr>\n",
       "    <tr>\n",
       "      <th>2015</th>\n",
       "      <td>1753</td>\n",
       "    </tr>\n",
       "    <tr>\n",
       "      <th>2014</th>\n",
       "      <td>2221</td>\n",
       "    </tr>\n",
       "    <tr>\n",
       "      <th>2013</th>\n",
       "      <td>2443</td>\n",
       "    </tr>\n",
       "    <tr>\n",
       "      <th>2012</th>\n",
       "      <td>509</td>\n",
       "    </tr>\n",
       "    <tr>\n",
       "      <th>2011</th>\n",
       "      <td>75</td>\n",
       "    </tr>\n",
       "    <tr>\n",
       "      <th>2010</th>\n",
       "      <td>83</td>\n",
       "    </tr>\n",
       "    <tr>\n",
       "      <th>2009</th>\n",
       "      <td>82</td>\n",
       "    </tr>\n",
       "    <tr>\n",
       "      <th>2008</th>\n",
       "      <td>117</td>\n",
       "    </tr>\n",
       "    <tr>\n",
       "      <th>2007</th>\n",
       "      <td>121</td>\n",
       "    </tr>\n",
       "    <tr>\n",
       "      <th>2006</th>\n",
       "      <td>88</td>\n",
       "    </tr>\n",
       "    <tr>\n",
       "      <th>2005</th>\n",
       "      <td>62</td>\n",
       "    </tr>\n",
       "    <tr>\n",
       "      <th>2004</th>\n",
       "      <td>55</td>\n",
       "    </tr>\n",
       "    <tr>\n",
       "      <th>2003</th>\n",
       "      <td>72</td>\n",
       "    </tr>\n",
       "    <tr>\n",
       "      <th>2002</th>\n",
       "      <td>80</td>\n",
       "    </tr>\n",
       "    <tr>\n",
       "      <th>2001</th>\n",
       "      <td>95</td>\n",
       "    </tr>\n",
       "    <tr>\n",
       "      <th>2000</th>\n",
       "      <td>81</td>\n",
       "    </tr>\n",
       "    <tr>\n",
       "      <th>1999</th>\n",
       "      <td>80</td>\n",
       "    </tr>\n",
       "    <tr>\n",
       "      <th>1998</th>\n",
       "      <td>66</td>\n",
       "    </tr>\n",
       "    <tr>\n",
       "      <th>1997</th>\n",
       "      <td>61</td>\n",
       "    </tr>\n",
       "    <tr>\n",
       "      <th>1996</th>\n",
       "      <td>58</td>\n",
       "    </tr>\n",
       "    <tr>\n",
       "      <th>1995</th>\n",
       "      <td>34</td>\n",
       "    </tr>\n",
       "    <tr>\n",
       "      <th>1994</th>\n",
       "      <td>31</td>\n",
       "    </tr>\n",
       "    <tr>\n",
       "      <th>1993</th>\n",
       "      <td>15</td>\n",
       "    </tr>\n",
       "    <tr>\n",
       "      <th>1992</th>\n",
       "      <td>14</td>\n",
       "    </tr>\n",
       "    <tr>\n",
       "      <th>1991</th>\n",
       "      <td>10</td>\n",
       "    </tr>\n",
       "    <tr>\n",
       "      <th>1990</th>\n",
       "      <td>4</td>\n",
       "    </tr>\n",
       "    <tr>\n",
       "      <th>1988</th>\n",
       "      <td>2</td>\n",
       "    </tr>\n",
       "    <tr>\n",
       "      <th>1985</th>\n",
       "      <td>1</td>\n",
       "    </tr>\n",
       "  </tbody>\n",
       "</table>\n",
       "</div>"
      ],
      "text/plain": [
       "      ano_de_fabricacao\n",
       "2022                 37\n",
       "2021               2614\n",
       "2020               4729\n",
       "2019               3880\n",
       "2018               3820\n",
       "2017               4369\n",
       "2016               1822\n",
       "2015               1753\n",
       "2014               2221\n",
       "2013               2443\n",
       "2012                509\n",
       "2011                 75\n",
       "2010                 83\n",
       "2009                 82\n",
       "2008                117\n",
       "2007                121\n",
       "2006                 88\n",
       "2005                 62\n",
       "2004                 55\n",
       "2003                 72\n",
       "2002                 80\n",
       "2001                 95\n",
       "2000                 81\n",
       "1999                 80\n",
       "1998                 66\n",
       "1997                 61\n",
       "1996                 58\n",
       "1995                 34\n",
       "1994                 31\n",
       "1993                 15\n",
       "1992                 14\n",
       "1991                 10\n",
       "1990                  4\n",
       "1988                  2\n",
       "1985                  1"
      ]
     },
     "execution_count": 264,
     "metadata": {},
     "output_type": "execute_result"
    }
   ],
   "source": [
    "#df.team.value_counts()[df.team.unique()]\n",
    "\n",
    "af = pd.DataFrame(treino['ano_de_fabricacao'].value_counts(dropna = False))\n",
    "af = af.sort_index(ascending=False)\n",
    "af"
   ]
  },
  {
   "cell_type": "code",
   "execution_count": 268,
   "id": "00fe72eb-27e9-4f19-ac35-549b15f29cb0",
   "metadata": {},
   "outputs": [
    {
     "data": {
      "text/plain": [
       "Text(0, 0.5, 'Frequência')"
      ]
     },
     "execution_count": 268,
     "metadata": {},
     "output_type": "execute_result"
    },
    {
     "data": {
      "image/png": "[encoded data removed]",
      "text/plain": [
       "<Figure size 432x288 with 1 Axes>"
      ]
     },
     "metadata": {
      "needs_background": "light"
     },
     "output_type": "display_data"
    }
   ],
   "source": [
    "treino['ano_de_fabricacao'].value_counts().plot(kind = 'bar')\n",
    "plt.xlabel('Ano de fabricação')\n",
    "plt.ylabel('Frequência')"
   ]
  },
  {
   "cell_type": "markdown",
   "id": "6257fa68-91e1-4bc8-a241-05a78ac7c527",
   "metadata": {},
   "source": [
    "Os carros com ano de fabricação em 2020 foi o mais frenquente. Há uma concentração de carros entre 2012 a 2021. Contudo, o banco de dados apresentou anuncios de carros até 1985, ou seja, existe no mercado de carros usados, veículos com mais de 35 anos de fabricação."
   ]
  },
  {
   "cell_type": "markdown",
   "id": "b29eafbc-d9ec-4720-ba22-96ef59bbf0d4",
   "metadata": {},
   "source": [
    "##### Ano do Modelo"
   ]
  },
  {
   "cell_type": "code",
   "execution_count": 269,
   "id": "fdd3f967-5467-4673-91c3-556c617eddf6",
   "metadata": {},
   "outputs": [
    {
     "data": {
      "text/html": [
       "<div>\n",
       "<style scoped>\n",
       "    .dataframe tbody tr th:only-of-type {\n",
       "        vertical-align: middle;\n",
       "    }\n",
       "\n",
       "    .dataframe tbody tr th {\n",
       "        vertical-align: top;\n",
       "    }\n",
       "\n",
       "    .dataframe thead th {\n",
       "        text-align: right;\n",
       "    }\n",
       "</style>\n",
       "<table border=\"1\" class=\"dataframe\">\n",
       "  <thead>\n",
       "    <tr style=\"text-align: right;\">\n",
       "      <th></th>\n",
       "      <th>ano_modelo</th>\n",
       "    </tr>\n",
       "  </thead>\n",
       "  <tbody>\n",
       "    <tr>\n",
       "      <th>2023</th>\n",
       "      <td>15</td>\n",
       "    </tr>\n",
       "    <tr>\n",
       "      <th>2022</th>\n",
       "      <td>829</td>\n",
       "    </tr>\n",
       "    <tr>\n",
       "      <th>2021</th>\n",
       "      <td>5071</td>\n",
       "    </tr>\n",
       "    <tr>\n",
       "      <th>2020</th>\n",
       "      <td>3541</td>\n",
       "    </tr>\n",
       "    <tr>\n",
       "      <th>2019</th>\n",
       "      <td>3587</td>\n",
       "    </tr>\n",
       "    <tr>\n",
       "      <th>2018</th>\n",
       "      <td>4221</td>\n",
       "    </tr>\n",
       "    <tr>\n",
       "      <th>2017</th>\n",
       "      <td>4519</td>\n",
       "    </tr>\n",
       "    <tr>\n",
       "      <th>2016</th>\n",
       "      <td>890</td>\n",
       "    </tr>\n",
       "    <tr>\n",
       "      <th>2015</th>\n",
       "      <td>2386</td>\n",
       "    </tr>\n",
       "    <tr>\n",
       "      <th>2014</th>\n",
       "      <td>2377</td>\n",
       "    </tr>\n",
       "    <tr>\n",
       "      <th>2013</th>\n",
       "      <td>1212</td>\n",
       "    </tr>\n",
       "    <tr>\n",
       "      <th>2012</th>\n",
       "      <td>693</td>\n",
       "    </tr>\n",
       "    <tr>\n",
       "      <th>2011</th>\n",
       "      <td>228</td>\n",
       "    </tr>\n",
       "    <tr>\n",
       "      <th>2010</th>\n",
       "      <td>9</td>\n",
       "    </tr>\n",
       "    <tr>\n",
       "      <th>2008</th>\n",
       "      <td>4</td>\n",
       "    </tr>\n",
       "    <tr>\n",
       "      <th>2006</th>\n",
       "      <td>1</td>\n",
       "    </tr>\n",
       "    <tr>\n",
       "      <th>1997</th>\n",
       "      <td>1</td>\n",
       "    </tr>\n",
       "  </tbody>\n",
       "</table>\n",
       "</div>"
      ],
      "text/plain": [
       "      ano_modelo\n",
       "2023          15\n",
       "2022         829\n",
       "2021        5071\n",
       "2020        3541\n",
       "2019        3587\n",
       "2018        4221\n",
       "2017        4519\n",
       "2016         890\n",
       "2015        2386\n",
       "2014        2377\n",
       "2013        1212\n",
       "2012         693\n",
       "2011         228\n",
       "2010           9\n",
       "2008           4\n",
       "2006           1\n",
       "1997           1"
      ]
     },
     "execution_count": 269,
     "metadata": {},
     "output_type": "execute_result"
    }
   ],
   "source": [
    "an = pd.DataFrame(treino['ano_modelo'].value_counts(dropna = False))\n",
    "an = an.sort_index(ascending=False)\n",
    "an"
   ]
  },
  {
   "cell_type": "code",
   "execution_count": 282,
   "id": "c60529e0-f2d7-49fa-88a5-390e8e1e73fd",
   "metadata": {},
   "outputs": [
    {
     "data": {
      "text/plain": [
       "Text(0, 0.5, 'Frequência')"
      ]
     },
     "execution_count": 282,
     "metadata": {},
     "output_type": "execute_result"
    },
    {
     "data": {
      "image/png": "[encoded data removed]",
      "text/plain": [
       "<Figure size 432x288 with 1 Axes>"
      ]
     },
     "metadata": {
      "needs_background": "light"
     },
     "output_type": "display_data"
    }
   ],
   "source": [
    "treino['ano_modelo'].value_counts().plot(kind = 'bar')\n",
    "plt.xlabel('Ano do modelo de fabricação')\n",
    "plt.ylabel('Frequência')"
   ]
  },
  {
   "cell_type": "markdown",
   "id": "e0ddb3c5-c201-48b3-a13f-a87e9ffb13d3",
   "metadata": {},
   "source": [
    "Chama atenção na variável do ano do modelo de fabricação do carro o fato de determinados carros serem fabricados num certo ano e o modelo ser registrado como referente a 8 ou mais anos depois da fabricação. Exemplo desta ocorrência está na linha 7819.\n",
    "Verifica-se que os anuncios mais frequentes são de carros com modelo de fabricação de 2021."
   ]
  },
  {
   "cell_type": "markdown",
   "id": "3d2e7c27-165f-4ea5-81ef-ce5d6d3317cf",
   "metadata": {},
   "source": [
    "#### Câmbio"
   ]
  },
  {
   "cell_type": "code",
   "execution_count": 222,
   "id": "8f4460ac-33b4-476f-9c66-d9dfd1b3f2cc",
   "metadata": {},
   "outputs": [
    {
     "data": {
      "text/html": [
       "<div>\n",
       "<style scoped>\n",
       "    .dataframe tbody tr th:only-of-type {\n",
       "        vertical-align: middle;\n",
       "    }\n",
       "\n",
       "    .dataframe tbody tr th {\n",
       "        vertical-align: top;\n",
       "    }\n",
       "\n",
       "    .dataframe thead th {\n",
       "        text-align: right;\n",
       "    }\n",
       "</style>\n",
       "<table border=\"1\" class=\"dataframe\">\n",
       "  <thead>\n",
       "    <tr style=\"text-align: right;\">\n",
       "      <th></th>\n",
       "      <th>cambio</th>\n",
       "    </tr>\n",
       "  </thead>\n",
       "  <tbody>\n",
       "    <tr>\n",
       "      <th>Automática</th>\n",
       "      <td>22545</td>\n",
       "    </tr>\n",
       "    <tr>\n",
       "      <th>Manual</th>\n",
       "      <td>4989</td>\n",
       "    </tr>\n",
       "    <tr>\n",
       "      <th>CVT</th>\n",
       "      <td>1792</td>\n",
       "    </tr>\n",
       "    <tr>\n",
       "      <th>Automatizada</th>\n",
       "      <td>139</td>\n",
       "    </tr>\n",
       "    <tr>\n",
       "      <th>Automatizada DCT</th>\n",
       "      <td>53</td>\n",
       "    </tr>\n",
       "    <tr>\n",
       "      <th>Semi-automática</th>\n",
       "      <td>41</td>\n",
       "    </tr>\n",
       "    <tr>\n",
       "      <th>Automática Sequencial</th>\n",
       "      <td>25</td>\n",
       "    </tr>\n",
       "  </tbody>\n",
       "</table>\n",
       "</div>"
      ],
      "text/plain": [
       "                       cambio\n",
       "Automática              22545\n",
       "Manual                   4989\n",
       "CVT                      1792\n",
       "Automatizada              139\n",
       "Automatizada DCT           53\n",
       "Semi-automática            41\n",
       "Automática Sequencial      25"
      ]
     },
     "execution_count": 222,
     "metadata": {},
     "output_type": "execute_result"
    }
   ],
   "source": [
    "pd.DataFrame(treino['cambio'].value_counts(dropna = False))\n"
   ]
  },
  {
   "cell_type": "code",
   "execution_count": 181,
   "id": "20105ff2-f56c-4543-a5d5-3a5dc049bb6a",
   "metadata": {},
   "outputs": [
    {
     "data": {
      "text/plain": [
       "Text(0, 0.5, 'Frequência')"
      ]
     },
     "execution_count": 181,
     "metadata": {},
     "output_type": "execute_result"
    },
    {
     "data": {
      "image/png": "[encoded data removed]",
      "text/plain": [
       "<Figure size 432x288 with 1 Axes>"
      ]
     },
     "metadata": {
      "needs_background": "light"
     },
     "output_type": "display_data"
    }
   ],
   "source": [
    "treino['cambio'].value_counts().plot(kind = 'bar')\n",
    "plt.xlabel('Tipo do Câmbio')\n",
    "plt.ylabel('Frequência')"
   ]
  },
  {
   "cell_type": "markdown",
   "id": "c4e20465-c870-4e42-9cce-5b06690ff9e4",
   "metadata": {},
   "source": [
    "São sete os tipos de câmbios dos carros anunciados na base de dados, o automático é o mais frequente, seguido, com muita distância, do manual.  "
   ]
  },
  {
   "cell_type": "markdown",
   "id": "02d5f03c-13b4-48a3-9f20-4769635c9e3d",
   "metadata": {},
   "source": [
    "#### Tipo do veículo anunciado"
   ]
  },
  {
   "cell_type": "code",
   "execution_count": 221,
   "id": "2071ff2f-fd0f-4799-abf2-5def554bfed8",
   "metadata": {},
   "outputs": [
    {
     "data": {
      "text/html": [
       "<div>\n",
       "<style scoped>\n",
       "    .dataframe tbody tr th:only-of-type {\n",
       "        vertical-align: middle;\n",
       "    }\n",
       "\n",
       "    .dataframe tbody tr th {\n",
       "        vertical-align: top;\n",
       "    }\n",
       "\n",
       "    .dataframe thead th {\n",
       "        text-align: right;\n",
       "    }\n",
       "</style>\n",
       "<table border=\"1\" class=\"dataframe\">\n",
       "  <thead>\n",
       "    <tr style=\"text-align: right;\">\n",
       "      <th></th>\n",
       "      <th>tipo</th>\n",
       "    </tr>\n",
       "  </thead>\n",
       "  <tbody>\n",
       "    <tr>\n",
       "      <th>Sedã</th>\n",
       "      <td>16429</td>\n",
       "    </tr>\n",
       "    <tr>\n",
       "      <th>Hatchback</th>\n",
       "      <td>4924</td>\n",
       "    </tr>\n",
       "    <tr>\n",
       "      <th>Picape</th>\n",
       "      <td>4849</td>\n",
       "    </tr>\n",
       "    <tr>\n",
       "      <th>Utilitário esportivo</th>\n",
       "      <td>3322</td>\n",
       "    </tr>\n",
       "    <tr>\n",
       "      <th>Perua/SW</th>\n",
       "      <td>27</td>\n",
       "    </tr>\n",
       "    <tr>\n",
       "      <th>Cupê</th>\n",
       "      <td>26</td>\n",
       "    </tr>\n",
       "    <tr>\n",
       "      <th>Minivan</th>\n",
       "      <td>7</td>\n",
       "    </tr>\n",
       "  </tbody>\n",
       "</table>\n",
       "</div>"
      ],
      "text/plain": [
       "                       tipo\n",
       "Sedã                  16429\n",
       "Hatchback              4924\n",
       "Picape                 4849\n",
       "Utilitário esportivo   3322\n",
       "Perua/SW                 27\n",
       "Cupê                     26\n",
       "Minivan                   7"
      ]
     },
     "execution_count": 221,
     "metadata": {},
     "output_type": "execute_result"
    }
   ],
   "source": [
    "pd.DataFrame(treino['tipo'].value_counts(dropna = False))\n"
   ]
  },
  {
   "cell_type": "code",
   "execution_count": 281,
   "id": "1cc8f30a-db74-47ff-b061-91dc38749a3c",
   "metadata": {},
   "outputs": [
    {
     "data": {
      "text/plain": [
       "Text(0, 0.5, 'Frequência')"
      ]
     },
     "execution_count": 281,
     "metadata": {},
     "output_type": "execute_result"
    },
    {
     "data": {
      "image/png": "[encoded data removed]",
      "text/plain": [
       "<Figure size 432x288 with 1 Axes>"
      ]
     },
     "metadata": {
      "needs_background": "light"
     },
     "output_type": "display_data"
    }
   ],
   "source": [
    "treino['tipo'].value_counts().plot(kind = 'bar')\n",
    "plt.xlabel('Tipo do veículo anunciado')\n",
    "plt.ylabel('Frequência')"
   ]
  },
  {
   "cell_type": "markdown",
   "id": "76409dcd-93f7-4429-ac0a-e1656bb99bde",
   "metadata": {},
   "source": [
    "O sedã corresponde ao tipo de carro mais anunciado na base de dados, sendo o Corolla o modelo de sedã mais citado. "
   ]
  },
  {
   "cell_type": "markdown",
   "id": "1371305f-935e-4ebc-8d15-77d7a53e3a48",
   "metadata": {},
   "source": [
    "#### Blindado"
   ]
  },
  {
   "cell_type": "code",
   "execution_count": 220,
   "id": "9661edbf-864c-45ac-a68c-40e78cbb2b4a",
   "metadata": {},
   "outputs": [
    {
     "data": {
      "text/html": [
       "<div>\n",
       "<style scoped>\n",
       "    .dataframe tbody tr th:only-of-type {\n",
       "        vertical-align: middle;\n",
       "    }\n",
       "\n",
       "    .dataframe tbody tr th {\n",
       "        vertical-align: top;\n",
       "    }\n",
       "\n",
       "    .dataframe thead th {\n",
       "        text-align: right;\n",
       "    }\n",
       "</style>\n",
       "<table border=\"1\" class=\"dataframe\">\n",
       "  <thead>\n",
       "    <tr style=\"text-align: right;\">\n",
       "      <th></th>\n",
       "      <th>blindado</th>\n",
       "    </tr>\n",
       "  </thead>\n",
       "  <tbody>\n",
       "    <tr>\n",
       "      <th>Não</th>\n",
       "      <td>29336</td>\n",
       "    </tr>\n",
       "    <tr>\n",
       "      <th>Sim</th>\n",
       "      <td>248</td>\n",
       "    </tr>\n",
       "  </tbody>\n",
       "</table>\n",
       "</div>"
      ],
      "text/plain": [
       "     blindado\n",
       "Não     29336\n",
       "Sim       248"
      ]
     },
     "execution_count": 220,
     "metadata": {},
     "output_type": "execute_result"
    }
   ],
   "source": [
    "#df.loc[ df[“column_name”] == “some_value”, “column_name”] = “value”\n",
    "treino.loc[ treino[\"blindado\"] == \"N\", \"blindado\"] = \"Não\"\n",
    "treino.loc[ treino[\"blindado\"] == \"S\", \"blindado\"] = \"Sim\"\n",
    "pd.DataFrame(treino['blindado'].value_counts(dropna = False))"
   ]
  },
  {
   "cell_type": "code",
   "execution_count": 198,
   "id": "c070ec78-40d4-4434-a5c8-4b8643d5d479",
   "metadata": {},
   "outputs": [
    {
     "data": {
      "text/plain": [
       "Text(0, 0.5, 'Frequência')"
      ]
     },
     "execution_count": 198,
     "metadata": {},
     "output_type": "execute_result"
    },
    {
     "data": {
      "image/png": "[encoded data removed]",
      "text/plain": [
       "<Figure size 432x288 with 1 Axes>"
      ]
     },
     "metadata": {
      "needs_background": "light"
     },
     "output_type": "display_data"
    }
   ],
   "source": [
    "treino['blindado'].value_counts().plot(kind = 'bar')\n",
    "plt.xlabel('Carro Blindado')\n",
    "plt.ylabel('Frequência')"
   ]
  },
  {
   "cell_type": "markdown",
   "id": "1061e4bd-81bb-4f1b-906c-725545fbe776",
   "metadata": {},
   "source": [
    "Dos carros anunciados no banco de dados 99% não são blindados."
   ]
  },
  {
   "cell_type": "markdown",
   "id": "a030f6ea-fa10-4a0b-8266-8f25d09deb91",
   "metadata": {},
   "source": [
    "#### Cor do Carro"
   ]
  },
  {
   "cell_type": "code",
   "execution_count": 219,
   "id": "a8a58869-f919-4836-b5a3-aa36add998c9",
   "metadata": {},
   "outputs": [
    {
     "data": {
      "text/html": [
       "<div>\n",
       "<style scoped>\n",
       "    .dataframe tbody tr th:only-of-type {\n",
       "        vertical-align: middle;\n",
       "    }\n",
       "\n",
       "    .dataframe tbody tr th {\n",
       "        vertical-align: top;\n",
       "    }\n",
       "\n",
       "    .dataframe thead th {\n",
       "        text-align: right;\n",
       "    }\n",
       "</style>\n",
       "<table border=\"1\" class=\"dataframe\">\n",
       "  <thead>\n",
       "    <tr style=\"text-align: right;\">\n",
       "      <th></th>\n",
       "      <th>cor</th>\n",
       "    </tr>\n",
       "  </thead>\n",
       "  <tbody>\n",
       "    <tr>\n",
       "      <th>Branco</th>\n",
       "      <td>20949</td>\n",
       "    </tr>\n",
       "    <tr>\n",
       "      <th>Preto</th>\n",
       "      <td>5256</td>\n",
       "    </tr>\n",
       "    <tr>\n",
       "      <th>Prata</th>\n",
       "      <td>1741</td>\n",
       "    </tr>\n",
       "    <tr>\n",
       "      <th>Cinza</th>\n",
       "      <td>1634</td>\n",
       "    </tr>\n",
       "    <tr>\n",
       "      <th>Dourado</th>\n",
       "      <td>2</td>\n",
       "    </tr>\n",
       "    <tr>\n",
       "      <th>Verde</th>\n",
       "      <td>1</td>\n",
       "    </tr>\n",
       "    <tr>\n",
       "      <th>Vermelho</th>\n",
       "      <td>1</td>\n",
       "    </tr>\n",
       "  </tbody>\n",
       "</table>\n",
       "</div>"
      ],
      "text/plain": [
       "            cor\n",
       "Branco    20949\n",
       "Preto      5256\n",
       "Prata      1741\n",
       "Cinza      1634\n",
       "Dourado       2\n",
       "Verde         1\n",
       "Vermelho      1"
      ]
     },
     "execution_count": 219,
     "metadata": {},
     "output_type": "execute_result"
    }
   ],
   "source": [
    "pd.DataFrame(treino['cor'].value_counts(dropna = False))\n"
   ]
  },
  {
   "cell_type": "code",
   "execution_count": 202,
   "id": "5f7bc10c-6b12-4e9d-8120-73dcf35064e2",
   "metadata": {},
   "outputs": [
    {
     "data": {
      "text/plain": [
       "Text(0, 0.5, 'Frequência')"
      ]
     },
     "execution_count": 202,
     "metadata": {},
     "output_type": "execute_result"
    },
    {
     "data": {
      "image/png": "[encoded data removed]",
      "text/plain": [
       "<Figure size 432x288 with 1 Axes>"
      ]
     },
     "metadata": {
      "needs_background": "light"
     },
     "output_type": "display_data"
    }
   ],
   "source": [
    "treino['cor'].value_counts().plot(kind = 'bar')\n",
    "plt.xlabel(' Cor do Carro')\n",
    "plt.ylabel('Frequência')"
   ]
  },
  {
   "cell_type": "markdown",
   "id": "4d7c54b1-e74b-46d7-b82f-b6e4baa886b0",
   "metadata": {},
   "source": [
    "A cor branca é predominante entre os carros anunciados, cerca de 70% são brancos. De cor preta são outros 17%. Prata e cinza correspondem a 5 % cada um. "
   ]
  },
  {
   "cell_type": "markdown",
   "id": "c1a4c22f-f40f-4387-b3e6-8f1bd978fd0d",
   "metadata": {},
   "source": [
    "#### Tipo de Vendedor"
   ]
  },
  {
   "cell_type": "code",
   "execution_count": 218,
   "id": "cc269443-4ced-46b3-bfb5-3ed075f131fa",
   "metadata": {},
   "outputs": [
    {
     "data": {
      "text/html": [
       "<div>\n",
       "<style scoped>\n",
       "    .dataframe tbody tr th:only-of-type {\n",
       "        vertical-align: middle;\n",
       "    }\n",
       "\n",
       "    .dataframe tbody tr th {\n",
       "        vertical-align: top;\n",
       "    }\n",
       "\n",
       "    .dataframe thead th {\n",
       "        text-align: right;\n",
       "    }\n",
       "</style>\n",
       "<table border=\"1\" class=\"dataframe\">\n",
       "  <thead>\n",
       "    <tr style=\"text-align: right;\">\n",
       "      <th></th>\n",
       "      <th>tipo_vendedor</th>\n",
       "    </tr>\n",
       "  </thead>\n",
       "  <tbody>\n",
       "    <tr>\n",
       "      <th>PF</th>\n",
       "      <td>17926</td>\n",
       "    </tr>\n",
       "    <tr>\n",
       "      <th>PJ</th>\n",
       "      <td>11658</td>\n",
       "    </tr>\n",
       "  </tbody>\n",
       "</table>\n",
       "</div>"
      ],
      "text/plain": [
       "    tipo_vendedor\n",
       "PF          17926\n",
       "PJ          11658"
      ]
     },
     "execution_count": 218,
     "metadata": {},
     "output_type": "execute_result"
    }
   ],
   "source": [
    "pd.DataFrame(treino['tipo_vendedor'].value_counts(dropna = False))\n"
   ]
  },
  {
   "cell_type": "code",
   "execution_count": 208,
   "id": "185c5091-6e12-48b1-87e2-354f1e3391c5",
   "metadata": {},
   "outputs": [
    {
     "data": {
      "text/plain": [
       "Text(0, 0.5, 'Frequência')"
      ]
     },
     "execution_count": 208,
     "metadata": {},
     "output_type": "execute_result"
    },
    {
     "data": {
      "image/png": "[encoded data removed]",
      "text/plain": [
       "<Figure size 432x288 with 1 Axes>"
      ]
     },
     "metadata": {
      "needs_background": "light"
     },
     "output_type": "display_data"
    }
   ],
   "source": [
    "treino['tipo_vendedor'].value_counts().plot(kind = 'bar')\n",
    "plt.xlabel('Tipo de Vendedor')\n",
    "plt.ylabel('Frequência')"
   ]
  },
  {
   "cell_type": "markdown",
   "id": "9026230e-b45e-4cce-9571-bcb4a461964f",
   "metadata": {},
   "source": [
    "A mioria dos vendedores de carros anunciados no banco de dados são pessoas físicas, 60%."
   ]
  },
  {
   "cell_type": "markdown",
   "id": "74f6c2a7-d1b8-440b-b13b-f1bc486d30ef",
   "metadata": {},
   "source": [
    "#### Cidade de residência do vendedor"
   ]
  },
  {
   "cell_type": "code",
   "execution_count": 217,
   "id": "cc258b14-b711-4861-bd9c-363fa8e17642",
   "metadata": {},
   "outputs": [
    {
     "data": {
      "text/html": [
       "<div>\n",
       "<style scoped>\n",
       "    .dataframe tbody tr th:only-of-type {\n",
       "        vertical-align: middle;\n",
       "    }\n",
       "\n",
       "    .dataframe tbody tr th {\n",
       "        vertical-align: top;\n",
       "    }\n",
       "\n",
       "    .dataframe thead th {\n",
       "        text-align: right;\n",
       "    }\n",
       "</style>\n",
       "<table border=\"1\" class=\"dataframe\">\n",
       "  <thead>\n",
       "    <tr style=\"text-align: right;\">\n",
       "      <th></th>\n",
       "      <th>cidade_vendedor</th>\n",
       "    </tr>\n",
       "  </thead>\n",
       "  <tbody>\n",
       "    <tr>\n",
       "      <th>São Paulo</th>\n",
       "      <td>6158</td>\n",
       "    </tr>\n",
       "    <tr>\n",
       "      <th>Rio de Janeiro</th>\n",
       "      <td>5793</td>\n",
       "    </tr>\n",
       "    <tr>\n",
       "      <th>Belo Horizonte</th>\n",
       "      <td>2172</td>\n",
       "    </tr>\n",
       "    <tr>\n",
       "      <th>Presidente Prudente</th>\n",
       "      <td>1536</td>\n",
       "    </tr>\n",
       "    <tr>\n",
       "      <th>Goiânia</th>\n",
       "      <td>1396</td>\n",
       "    </tr>\n",
       "    <tr>\n",
       "      <th>...</th>\n",
       "      <td>...</td>\n",
       "    </tr>\n",
       "    <tr>\n",
       "      <th>Garopaba</th>\n",
       "      <td>1</td>\n",
       "    </tr>\n",
       "    <tr>\n",
       "      <th>Porto Feliz</th>\n",
       "      <td>1</td>\n",
       "    </tr>\n",
       "    <tr>\n",
       "      <th>Antônio Carlos</th>\n",
       "      <td>1</td>\n",
       "    </tr>\n",
       "    <tr>\n",
       "      <th>Panambi</th>\n",
       "      <td>1</td>\n",
       "    </tr>\n",
       "    <tr>\n",
       "      <th>Descalvado</th>\n",
       "      <td>1</td>\n",
       "    </tr>\n",
       "  </tbody>\n",
       "</table>\n",
       "<p>575 rows × 1 columns</p>\n",
       "</div>"
      ],
      "text/plain": [
       "                     cidade_vendedor\n",
       "São Paulo                       6158\n",
       "Rio de Janeiro                  5793\n",
       "Belo Horizonte                  2172\n",
       "Presidente Prudente             1536\n",
       "Goiânia                         1396\n",
       "...                              ...\n",
       "Garopaba                           1\n",
       "Porto Feliz                        1\n",
       "Antônio Carlos                     1\n",
       "Panambi                            1\n",
       "Descalvado                         1\n",
       "\n",
       "[575 rows x 1 columns]"
      ]
     },
     "execution_count": 217,
     "metadata": {},
     "output_type": "execute_result"
    }
   ],
   "source": [
    "pd.DataFrame(treino['cidade_vendedor'].value_counts(dropna = False))"
   ]
  },
  {
   "cell_type": "markdown",
   "id": "7dc369e8-9035-459e-8e7c-4ef7c4b34824",
   "metadata": {},
   "source": [
    "Os anuncios estão distribuídos em 575 cidades do Brasil. São Paulo é o município com maior número de anuncios, seguido por Rio de Janeiro e Belo Horizonte. Entre as cinco cidades com mais anuncios, apenas Goiânia está fora da região sudeste. "
   ]
  },
  {
   "cell_type": "markdown",
   "id": "da2b1b16-7756-4d98-9716-798f16980613",
   "metadata": {},
   "source": [
    "#### Estado do Vendedor"
   ]
  },
  {
   "cell_type": "code",
   "execution_count": 215,
   "id": "6c59f271-a9fa-49cc-943e-bc7d98a3bbdc",
   "metadata": {},
   "outputs": [
    {
     "data": {
      "text/html": [
       "<div>\n",
       "<style scoped>\n",
       "    .dataframe tbody tr th:only-of-type {\n",
       "        vertical-align: middle;\n",
       "    }\n",
       "\n",
       "    .dataframe tbody tr th {\n",
       "        vertical-align: top;\n",
       "    }\n",
       "\n",
       "    .dataframe thead th {\n",
       "        text-align: right;\n",
       "    }\n",
       "</style>\n",
       "<table border=\"1\" class=\"dataframe\">\n",
       "  <thead>\n",
       "    <tr style=\"text-align: right;\">\n",
       "      <th></th>\n",
       "      <th>estado_vendedor</th>\n",
       "    </tr>\n",
       "  </thead>\n",
       "  <tbody>\n",
       "    <tr>\n",
       "      <th>São Paulo (SP)</th>\n",
       "      <td>16378</td>\n",
       "    </tr>\n",
       "    <tr>\n",
       "      <th>Rio de Janeiro (RJ)</th>\n",
       "      <td>2548</td>\n",
       "    </tr>\n",
       "    <tr>\n",
       "      <th>Paraná (PR)</th>\n",
       "      <td>2526</td>\n",
       "    </tr>\n",
       "    <tr>\n",
       "      <th>Santa Catarina (SC)</th>\n",
       "      <td>2302</td>\n",
       "    </tr>\n",
       "    <tr>\n",
       "      <th>Minas Gerais (MG)</th>\n",
       "      <td>1775</td>\n",
       "    </tr>\n",
       "    <tr>\n",
       "      <th>Rio Grande do Sul (RS)</th>\n",
       "      <td>1646</td>\n",
       "    </tr>\n",
       "    <tr>\n",
       "      <th>Goiás (GO)</th>\n",
       "      <td>789</td>\n",
       "    </tr>\n",
       "    <tr>\n",
       "      <th>Bahia (BA)</th>\n",
       "      <td>604</td>\n",
       "    </tr>\n",
       "    <tr>\n",
       "      <th>Pernambuco (PE)</th>\n",
       "      <td>318</td>\n",
       "    </tr>\n",
       "    <tr>\n",
       "      <th>Alagoas (AL)</th>\n",
       "      <td>125</td>\n",
       "    </tr>\n",
       "    <tr>\n",
       "      <th>Paraíba (PB)</th>\n",
       "      <td>108</td>\n",
       "    </tr>\n",
       "    <tr>\n",
       "      <th>Rio Grande do Norte (RN)</th>\n",
       "      <td>90</td>\n",
       "    </tr>\n",
       "    <tr>\n",
       "      <th>Pará (PA)</th>\n",
       "      <td>74</td>\n",
       "    </tr>\n",
       "    <tr>\n",
       "      <th>Ceará (CE)</th>\n",
       "      <td>69</td>\n",
       "    </tr>\n",
       "    <tr>\n",
       "      <th>Amazonas (AM)</th>\n",
       "      <td>51</td>\n",
       "    </tr>\n",
       "    <tr>\n",
       "      <th>Mato Grosso do Sul (MS)</th>\n",
       "      <td>35</td>\n",
       "    </tr>\n",
       "    <tr>\n",
       "      <th>Mato Grosso (MT)</th>\n",
       "      <td>33</td>\n",
       "    </tr>\n",
       "    <tr>\n",
       "      <th>Acre (AC)</th>\n",
       "      <td>29</td>\n",
       "    </tr>\n",
       "    <tr>\n",
       "      <th>Sergipe (SE)</th>\n",
       "      <td>24</td>\n",
       "    </tr>\n",
       "    <tr>\n",
       "      <th>Espírito Santo (ES)</th>\n",
       "      <td>21</td>\n",
       "    </tr>\n",
       "    <tr>\n",
       "      <th>Tocantins (TO)</th>\n",
       "      <td>20</td>\n",
       "    </tr>\n",
       "    <tr>\n",
       "      <th>Maranhão (MA)</th>\n",
       "      <td>7</td>\n",
       "    </tr>\n",
       "    <tr>\n",
       "      <th>Piauí (PI)</th>\n",
       "      <td>6</td>\n",
       "    </tr>\n",
       "    <tr>\n",
       "      <th>Rondônia (RO)</th>\n",
       "      <td>4</td>\n",
       "    </tr>\n",
       "    <tr>\n",
       "      <th>Roraima (RR)</th>\n",
       "      <td>2</td>\n",
       "    </tr>\n",
       "  </tbody>\n",
       "</table>\n",
       "</div>"
      ],
      "text/plain": [
       "                          estado_vendedor\n",
       "São Paulo (SP)                      16378\n",
       "Rio de Janeiro (RJ)                  2548\n",
       "Paraná (PR)                          2526\n",
       "Santa Catarina (SC)                  2302\n",
       "Minas Gerais (MG)                    1775\n",
       "Rio Grande do Sul (RS)               1646\n",
       "Goiás (GO)                            789\n",
       "Bahia (BA)                            604\n",
       "Pernambuco (PE)                       318\n",
       "Alagoas (AL)                          125\n",
       "Paraíba (PB)                          108\n",
       "Rio Grande do Norte (RN)               90\n",
       "Pará (PA)                              74\n",
       "Ceará (CE)                             69\n",
       "Amazonas (AM)                          51\n",
       "Mato Grosso do Sul (MS)                35\n",
       "Mato Grosso (MT)                       33\n",
       "Acre (AC)                              29\n",
       "Sergipe (SE)                           24\n",
       "Espírito Santo (ES)                    21\n",
       "Tocantins (TO)                         20\n",
       "Maranhão (MA)                           7\n",
       "Piauí (PI)                              6\n",
       "Rondônia (RO)                           4\n",
       "Roraima (RR)                            2"
      ]
     },
     "execution_count": 215,
     "metadata": {},
     "output_type": "execute_result"
    }
   ],
   "source": [
    "pd.DataFrame(treino['estado_vendedor'].value_counts(dropna = False))\n"
   ]
  },
  {
   "cell_type": "code",
   "execution_count": 211,
   "id": "d3307fb7-7ec8-4a3e-828f-2fc6a9236a3e",
   "metadata": {},
   "outputs": [
    {
     "data": {
      "text/plain": [
       "Text(0, 0.5, 'Frequência')"
      ]
     },
     "execution_count": 211,
     "metadata": {},
     "output_type": "execute_result"
    },
    {
     "data": {
      "image/png": "[encoded data removed]",
      "text/plain": [
       "<Figure size 432x288 with 1 Axes>"
      ]
     },
     "metadata": {
      "needs_background": "light"
     },
     "output_type": "display_data"
    }
   ],
   "source": [
    "treino['estado_vendedor'].value_counts().plot(kind = 'bar')\n",
    "plt.xlabel('Estado do Vendedor')\n",
    "plt.ylabel('Frequência')"
   ]
  },
  {
   "cell_type": "markdown",
   "id": "3ff20e2f-1e89-48fd-a452-622e514a523e",
   "metadata": {},
   "source": [
    "Dois pontos chamam atenção na característica da variável. O primeiro, o estado de São Paulo concentrou as ocorrências dos anuncios. O segundo, observando os numéros da variável do estado do vendedor com o da cidade do vendedor foi possível verificar inconsistência no banco de dados. A frequencia de vendedores que moram em algumas cidades de determinados estados é maior do que a quantidade estadual. Dois exemplos, a cidade de Goiânia tem mais observações do que o estado de Goiás. O mesmo ocorre com Belo Horizonte e Minas Gerais. "
   ]
  },
  {
   "cell_type": "markdown",
   "id": "43d710d8-b1a4-4ead-ab61-ad535704cdde",
   "metadata": {},
   "source": [
    "#### Tipo de anunciante do vendedor do veículo"
   ]
  },
  {
   "cell_type": "code",
   "execution_count": 230,
   "id": "1f8138f0-96f2-457f-adf4-88a11a7062d6",
   "metadata": {},
   "outputs": [
    {
     "data": {
      "text/html": [
       "<div>\n",
       "<style scoped>\n",
       "    .dataframe tbody tr th:only-of-type {\n",
       "        vertical-align: middle;\n",
       "    }\n",
       "\n",
       "    .dataframe tbody tr th {\n",
       "        vertical-align: top;\n",
       "    }\n",
       "\n",
       "    .dataframe thead th {\n",
       "        text-align: right;\n",
       "    }\n",
       "</style>\n",
       "<table border=\"1\" class=\"dataframe\">\n",
       "  <thead>\n",
       "    <tr style=\"text-align: right;\">\n",
       "      <th></th>\n",
       "      <th>anunciante</th>\n",
       "    </tr>\n",
       "  </thead>\n",
       "  <tbody>\n",
       "    <tr>\n",
       "      <th>Pessoa Física</th>\n",
       "      <td>0.608403</td>\n",
       "    </tr>\n",
       "    <tr>\n",
       "      <th>Loja</th>\n",
       "      <td>0.333931</td>\n",
       "    </tr>\n",
       "    <tr>\n",
       "      <th>Concessionária</th>\n",
       "      <td>0.057531</td>\n",
       "    </tr>\n",
       "    <tr>\n",
       "      <th>Acessórios e serviços para autos</th>\n",
       "      <td>0.000135</td>\n",
       "    </tr>\n",
       "  </tbody>\n",
       "</table>\n",
       "</div>"
      ],
      "text/plain": [
       "                                  anunciante\n",
       "Pessoa Física                       0.608403\n",
       "Loja                                0.333931\n",
       "Concessionária                      0.057531\n",
       "Acessórios e serviços para autos    0.000135"
      ]
     },
     "execution_count": 230,
     "metadata": {},
     "output_type": "execute_result"
    }
   ],
   "source": [
    "pd.DataFrame(treino['anunciante'].value_counts(dropna = False)"
   ]
  },
  {
   "cell_type": "code",
   "execution_count": 229,
   "id": "6454abee-7c34-416f-b035-a152d9e2636c",
   "metadata": {},
   "outputs": [
    {
     "data": {
      "text/plain": [
       "Text(0, 0.5, 'Frequência')"
      ]
     },
     "execution_count": 229,
     "metadata": {},
     "output_type": "execute_result"
    },
    {
     "data": {
      "image/png": "[encoded data removed]",
      "text/plain": [
       "<Figure size 432x288 with 1 Axes>"
      ]
     },
     "metadata": {
      "needs_background": "light"
     },
     "output_type": "display_data"
    }
   ],
   "source": [
    "treino['anunciante'].value_counts().plot(kind = 'bar')\n",
    "plt.xlabel('Tipo de anunciante do vendedor do veículo')\n",
    "plt.ylabel('Frequência')"
   ]
  },
  {
   "cell_type": "markdown",
   "id": "827979a5-f79b-445b-b4b5-55ea047e64d0",
   "metadata": {},
   "source": [
    "Assim como o tipo de vendedor, o anunciante do veículo é em sua maioria pessoa física. Lojas de carros estão em segundo lugar e as concessionárias em terceiro. "
   ]
  },
  {
   "cell_type": "markdown",
   "id": "ba514f57-359d-40ae-8ce0-cf769b8eba66",
   "metadata": {},
   "source": [
    "####  O vendedor faz ou não delivery do veículo anunciado"
   ]
  },
  {
   "cell_type": "code",
   "execution_count": 316,
   "id": "8227f0e9-9f89-463f-9d12-430c1b677aaa",
   "metadata": {},
   "outputs": [
    {
     "data": {
      "text/html": [
       "<div>\n",
       "<style scoped>\n",
       "    .dataframe tbody tr th:only-of-type {\n",
       "        vertical-align: middle;\n",
       "    }\n",
       "\n",
       "    .dataframe tbody tr th {\n",
       "        vertical-align: top;\n",
       "    }\n",
       "\n",
       "    .dataframe thead th {\n",
       "        text-align: right;\n",
       "    }\n",
       "</style>\n",
       "<table border=\"1\" class=\"dataframe\">\n",
       "  <thead>\n",
       "    <tr style=\"text-align: right;\">\n",
       "      <th></th>\n",
       "      <th>entrega_delivery</th>\n",
       "    </tr>\n",
       "  </thead>\n",
       "  <tbody>\n",
       "    <tr>\n",
       "      <th>Não</th>\n",
       "      <td>23601</td>\n",
       "    </tr>\n",
       "    <tr>\n",
       "      <th>Sim</th>\n",
       "      <td>5983</td>\n",
       "    </tr>\n",
       "  </tbody>\n",
       "</table>\n",
       "</div>"
      ],
      "text/plain": [
       "     entrega_delivery\n",
       "Não             23601\n",
       "Sim              5983"
      ]
     },
     "execution_count": 316,
     "metadata": {},
     "output_type": "execute_result"
    }
   ],
   "source": [
    "treino.loc[ treino[\"entrega_delivery\"] == False, \"entrega_delivery\"] = \"Não\"\n",
    "treino.loc[ treino[\"entrega_delivery\"] == True, \"entrega_delivery\"] = \"Sim\"\n",
    "pd.DataFrame(treino['entrega_delivery'].value_counts(dropna = False))"
   ]
  },
  {
   "cell_type": "code",
   "execution_count": 235,
   "id": "8d6bcaba-1f39-4302-8d3c-d3ad1470007b",
   "metadata": {},
   "outputs": [
    {
     "data": {
      "text/plain": [
       "Text(0, 0.5, 'Frequência')"
      ]
     },
     "execution_count": 235,
     "metadata": {},
     "output_type": "execute_result"
    },
    {
     "data": {
      "image/png": "[encoded data removed]",
      "text/plain": [
       "<Figure size 432x288 with 1 Axes>"
      ]
     },
     "metadata": {
      "needs_background": "light"
     },
     "output_type": "display_data"
    }
   ],
   "source": [
    "treino['entrega_delivery'].value_counts().plot(kind = 'bar')\n",
    "plt.xlabel('O vendedor faz ou não delivery do veículo anunciado')\n",
    "plt.ylabel('Frequência')"
   ]
  },
  {
   "cell_type": "markdown",
   "id": "6b7db1e4-f315-4d13-8872-b9c45090bd05",
   "metadata": {},
   "source": [
    "Normalmente os vendedores dos carros não realizam a entrega do carro anunciado caso seja vendido. Apenas 20% dos vendedores fazem esse tipo de serviço. "
   ]
  },
  {
   "cell_type": "markdown",
   "id": "23bb0d50-222b-45d6-a7f3-29c769196fc5",
   "metadata": {},
   "source": [
    "#### Veículo anunciado já foi trocado anteriormente"
   ]
  },
  {
   "cell_type": "code",
   "execution_count": 318,
   "id": "dd681991-7dc0-4b85-940e-addb2578e3ae",
   "metadata": {},
   "outputs": [
    {
     "data": {
      "text/html": [
       "<div>\n",
       "<style scoped>\n",
       "    .dataframe tbody tr th:only-of-type {\n",
       "        vertical-align: middle;\n",
       "    }\n",
       "\n",
       "    .dataframe tbody tr th {\n",
       "        vertical-align: top;\n",
       "    }\n",
       "\n",
       "    .dataframe thead th {\n",
       "        text-align: right;\n",
       "    }\n",
       "</style>\n",
       "<table border=\"1\" class=\"dataframe\">\n",
       "  <thead>\n",
       "    <tr style=\"text-align: right;\">\n",
       "      <th></th>\n",
       "      <th>troca</th>\n",
       "    </tr>\n",
       "  </thead>\n",
       "  <tbody>\n",
       "    <tr>\n",
       "      <th>Não</th>\n",
       "      <td>24523</td>\n",
       "    </tr>\n",
       "    <tr>\n",
       "      <th>Sim</th>\n",
       "      <td>5061</td>\n",
       "    </tr>\n",
       "  </tbody>\n",
       "</table>\n",
       "</div>"
      ],
      "text/plain": [
       "     troca\n",
       "Não  24523\n",
       "Sim   5061"
      ]
     },
     "execution_count": 318,
     "metadata": {},
     "output_type": "execute_result"
    }
   ],
   "source": [
    "treino.loc[ treino[\"troca\"] == False, \"troca\"] = \"Não\"\n",
    "treino.loc[ treino[\"troca\"] == True, \"troca\"] = \"Sim\"\n",
    "pd.DataFrame(treino['troca'].value_counts(dropna = False))\n"
   ]
  },
  {
   "cell_type": "code",
   "execution_count": 238,
   "id": "172d38fd-830b-4486-acb3-b62969325cd5",
   "metadata": {},
   "outputs": [
    {
     "data": {
      "text/plain": [
       "Text(0, 0.5, 'Frequência')"
      ]
     },
     "execution_count": 238,
     "metadata": {},
     "output_type": "execute_result"
    },
    {
     "data": {
      "image/png": "[encoded data removed]",
      "text/plain": [
       "<Figure size 432x288 with 1 Axes>"
      ]
     },
     "metadata": {
      "needs_background": "light"
     },
     "output_type": "display_data"
    }
   ],
   "source": [
    "tro = treino['troca'].value_counts().plot(kind = 'bar')\n",
    "plt.xlabel('O veículo já foi trocado')\n",
    "plt.ylabel('Frequência')"
   ]
  },
  {
   "cell_type": "markdown",
   "id": "197f404a-2544-424a-bbe9-5c61cff543a6",
   "metadata": {},
   "source": [
    "Dos veículos que estão no banco de dados 80% não foram trocados antes dos anuncios serem vinculados. "
   ]
  },
  {
   "cell_type": "markdown",
   "id": "2a406287-6cac-4e61-9b90-12289c0d3157",
   "metadata": {},
   "source": [
    "#### O veículo anunciado precisa ou não de revisão"
   ]
  },
  {
   "cell_type": "code",
   "execution_count": 314,
   "id": "2dddc62f-bfc4-44e2-b159-ff488d5c748d",
   "metadata": {},
   "outputs": [
    {
     "data": {
      "text/html": [
       "<div>\n",
       "<style scoped>\n",
       "    .dataframe tbody tr th:only-of-type {\n",
       "        vertical-align: middle;\n",
       "    }\n",
       "\n",
       "    .dataframe tbody tr th {\n",
       "        vertical-align: top;\n",
       "    }\n",
       "\n",
       "    .dataframe thead th {\n",
       "        text-align: right;\n",
       "    }\n",
       "</style>\n",
       "<table border=\"1\" class=\"dataframe\">\n",
       "  <thead>\n",
       "    <tr style=\"text-align: right;\">\n",
       "      <th></th>\n",
       "      <th>elegivel_revisao</th>\n",
       "    </tr>\n",
       "  </thead>\n",
       "  <tbody>\n",
       "    <tr>\n",
       "      <th>Não</th>\n",
       "      <td>1.0</td>\n",
       "    </tr>\n",
       "  </tbody>\n",
       "</table>\n",
       "</div>"
      ],
      "text/plain": [
       "     elegivel_revisao\n",
       "Não               1.0"
      ]
     },
     "execution_count": 314,
     "metadata": {},
     "output_type": "execute_result"
    }
   ],
   "source": [
    "treino.loc[ treino[\"elegivel_revisao\"] == False, \"elegivel_revisao\"] = \"Não\"\n",
    "treino.loc[ treino[\"elegivel_revisao\"] == True, \"elegivel_revisao\"] = \"Sim\"\n",
    "pd.DataFrame(treino['elegivel_revisao'].value_counts(dropna = False, normalize = True))"
   ]
  },
  {
   "cell_type": "code",
   "execution_count": 279,
   "id": "01e296e1-8ca5-4d6d-8116-940052442346",
   "metadata": {},
   "outputs": [
    {
     "data": {
      "text/plain": [
       "Text(0, 0.5, 'Frequência')"
      ]
     },
     "execution_count": 279,
     "metadata": {},
     "output_type": "execute_result"
    },
    {
     "data": {
      "image/png": "[encoded data removed]",
      "text/plain": [
       "<Figure size 432x288 with 1 Axes>"
      ]
     },
     "metadata": {
      "needs_background": "light"
     },
     "output_type": "display_data"
    }
   ],
   "source": [
    "treino['elegivel_revisao'].value_counts().plot(kind = 'bar')\n",
    "plt.xlabel('O veículo precisa de revisão')\n",
    "plt.ylabel('Frequência')"
   ]
  },
  {
   "cell_type": "markdown",
   "id": "24d629c6-72cd-4907-92bf-29e8bdb10225",
   "metadata": {},
   "source": [
    "De acordo com a variável, nenhum carro anunciado do banco de dados precisa de revisão. Como essa variável não apresentou variabilidade é uma forte candidata a ser excluída do modelo de precificação de carros."
   ]
  },
  {
   "cell_type": "markdown",
   "id": "fb523073-1919-4034-9aa3-23162e3b0d09",
   "metadata": {},
   "source": [
    "#### Variáveis com dados faltantes e que não possuem o não evento "
   ]
  },
  {
   "cell_type": "markdown",
   "id": "29a1e1b7-967a-4980-9bc2-6c76664e61f2",
   "metadata": {},
   "source": [
    "No caso dessas variáveis só há registro de frequência dos eventos. "
   ]
  },
  {
   "cell_type": "markdown",
   "id": "c70830dd-0017-49d1-9ce9-f4fc57a7901f",
   "metadata": {},
   "source": [
    "##### O vendedor aceita ou não realizar uma troca com o veículo anunciado"
   ]
  },
  {
   "cell_type": "code",
   "execution_count": 274,
   "id": "8eac908c-e13d-44a3-bcfc-ccb37edb7f39",
   "metadata": {},
   "outputs": [
    {
     "data": {
      "text/html": [
       "<div>\n",
       "<style scoped>\n",
       "    .dataframe tbody tr th:only-of-type {\n",
       "        vertical-align: middle;\n",
       "    }\n",
       "\n",
       "    .dataframe tbody tr th {\n",
       "        vertical-align: top;\n",
       "    }\n",
       "\n",
       "    .dataframe thead th {\n",
       "        text-align: right;\n",
       "    }\n",
       "</style>\n",
       "<table border=\"1\" class=\"dataframe\">\n",
       "  <thead>\n",
       "    <tr style=\"text-align: right;\">\n",
       "      <th></th>\n",
       "      <th>dono_aceita_troca</th>\n",
       "    </tr>\n",
       "  </thead>\n",
       "  <tbody>\n",
       "    <tr>\n",
       "      <th>Aceita troca</th>\n",
       "      <td>21922</td>\n",
       "    </tr>\n",
       "    <tr>\n",
       "      <th>NaN</th>\n",
       "      <td>7662</td>\n",
       "    </tr>\n",
       "  </tbody>\n",
       "</table>\n",
       "</div>"
      ],
      "text/plain": [
       "              dono_aceita_troca\n",
       "Aceita troca              21922\n",
       "NaN                        7662"
      ]
     },
     "execution_count": 274,
     "metadata": {},
     "output_type": "execute_result"
    }
   ],
   "source": [
    "pd.DataFrame(treino['dono_aceita_troca'].value_counts(dropna = False))"
   ]
  },
  {
   "cell_type": "markdown",
   "id": "cc26f82b-bd5d-4397-a204-c172be49d17b",
   "metadata": {},
   "source": [
    "#####  O veículo anunciado é de um único dono"
   ]
  },
  {
   "cell_type": "code",
   "execution_count": 283,
   "id": "aaf9dd55-6511-4f4f-abc9-887162b7df2d",
   "metadata": {},
   "outputs": [
    {
     "data": {
      "text/html": [
       "<div>\n",
       "<style scoped>\n",
       "    .dataframe tbody tr th:only-of-type {\n",
       "        vertical-align: middle;\n",
       "    }\n",
       "\n",
       "    .dataframe tbody tr th {\n",
       "        vertical-align: top;\n",
       "    }\n",
       "\n",
       "    .dataframe thead th {\n",
       "        text-align: right;\n",
       "    }\n",
       "</style>\n",
       "<table border=\"1\" class=\"dataframe\">\n",
       "  <thead>\n",
       "    <tr style=\"text-align: right;\">\n",
       "      <th></th>\n",
       "      <th>veiculo_único_dono</th>\n",
       "    </tr>\n",
       "  </thead>\n",
       "  <tbody>\n",
       "    <tr>\n",
       "      <th>NaN</th>\n",
       "      <td>19161</td>\n",
       "    </tr>\n",
       "    <tr>\n",
       "      <th>Único dono</th>\n",
       "      <td>10423</td>\n",
       "    </tr>\n",
       "  </tbody>\n",
       "</table>\n",
       "</div>"
      ],
      "text/plain": [
       "            veiculo_único_dono\n",
       "NaN                      19161\n",
       "Único dono               10423"
      ]
     },
     "execution_count": 283,
     "metadata": {},
     "output_type": "execute_result"
    }
   ],
   "source": [
    "pd.DataFrame(treino['veiculo_único_dono'].value_counts(dropna = False))"
   ]
  },
  {
   "cell_type": "markdown",
   "id": "d876e65b-6a6c-49df-8516-e50ef1929c01",
   "metadata": {},
   "source": [
    "##### O veículo anunciado teve suas revisões feitas em concessionárias"
   ]
  },
  {
   "cell_type": "code",
   "execution_count": 284,
   "id": "9924d155-8459-4026-883e-c1343bc1f9d9",
   "metadata": {},
   "outputs": [
    {
     "data": {
      "text/html": [
       "<div>\n",
       "<style scoped>\n",
       "    .dataframe tbody tr th:only-of-type {\n",
       "        vertical-align: middle;\n",
       "    }\n",
       "\n",
       "    .dataframe tbody tr th {\n",
       "        vertical-align: top;\n",
       "    }\n",
       "\n",
       "    .dataframe thead th {\n",
       "        text-align: right;\n",
       "    }\n",
       "</style>\n",
       "<table border=\"1\" class=\"dataframe\">\n",
       "  <thead>\n",
       "    <tr style=\"text-align: right;\">\n",
       "      <th></th>\n",
       "      <th>revisoes_concessionaria</th>\n",
       "    </tr>\n",
       "  </thead>\n",
       "  <tbody>\n",
       "    <tr>\n",
       "      <th>NaN</th>\n",
       "      <td>20412</td>\n",
       "    </tr>\n",
       "    <tr>\n",
       "      <th>Todas as revisões feitas pela concessionária</th>\n",
       "      <td>9172</td>\n",
       "    </tr>\n",
       "  </tbody>\n",
       "</table>\n",
       "</div>"
      ],
      "text/plain": [
       "                                              revisoes_concessionaria\n",
       "NaN                                                             20412\n",
       "Todas as revisões feitas pela concessionária                     9172"
      ]
     },
     "execution_count": 284,
     "metadata": {},
     "output_type": "execute_result"
    }
   ],
   "source": [
    "pd.DataFrame(treino['revisoes_concessionaria'].value_counts(dropna = False))"
   ]
  },
  {
   "cell_type": "markdown",
   "id": "3b6961c7-ec53-4dd5-b4bb-2531c57a3904",
   "metadata": {},
   "source": [
    "##### O veículo anunciado está com o IPVA pago ou não"
   ]
  },
  {
   "cell_type": "code",
   "execution_count": 285,
   "id": "d2103f36-704e-4d87-9cf4-4e0bbd6b9ecc",
   "metadata": {},
   "outputs": [
    {
     "data": {
      "text/html": [
       "<div>\n",
       "<style scoped>\n",
       "    .dataframe tbody tr th:only-of-type {\n",
       "        vertical-align: middle;\n",
       "    }\n",
       "\n",
       "    .dataframe tbody tr th {\n",
       "        vertical-align: top;\n",
       "    }\n",
       "\n",
       "    .dataframe thead th {\n",
       "        text-align: right;\n",
       "    }\n",
       "</style>\n",
       "<table border=\"1\" class=\"dataframe\">\n",
       "  <thead>\n",
       "    <tr style=\"text-align: right;\">\n",
       "      <th></th>\n",
       "      <th>ipva_pago</th>\n",
       "    </tr>\n",
       "  </thead>\n",
       "  <tbody>\n",
       "    <tr>\n",
       "      <th>IPVA pago</th>\n",
       "      <td>19659</td>\n",
       "    </tr>\n",
       "    <tr>\n",
       "      <th>NaN</th>\n",
       "      <td>9925</td>\n",
       "    </tr>\n",
       "  </tbody>\n",
       "</table>\n",
       "</div>"
      ],
      "text/plain": [
       "           ipva_pago\n",
       "IPVA pago      19659\n",
       "NaN             9925"
      ]
     },
     "execution_count": 285,
     "metadata": {},
     "output_type": "execute_result"
    }
   ],
   "source": [
    "pd.DataFrame(treino['ipva_pago'].value_counts(dropna = False))"
   ]
  },
  {
   "cell_type": "markdown",
   "id": "49cf915f-344e-4a7e-ba0f-37927d025c84",
   "metadata": {},
   "source": [
    "##### O veículo anunciado está com o licenciamento pago ou não"
   ]
  },
  {
   "cell_type": "code",
   "execution_count": 286,
   "id": "14546cea-62a8-40ce-8cbd-f19e2c22c070",
   "metadata": {},
   "outputs": [
    {
     "data": {
      "text/html": [
       "<div>\n",
       "<style scoped>\n",
       "    .dataframe tbody tr th:only-of-type {\n",
       "        vertical-align: middle;\n",
       "    }\n",
       "\n",
       "    .dataframe tbody tr th {\n",
       "        vertical-align: top;\n",
       "    }\n",
       "\n",
       "    .dataframe thead th {\n",
       "        text-align: right;\n",
       "    }\n",
       "</style>\n",
       "<table border=\"1\" class=\"dataframe\">\n",
       "  <thead>\n",
       "    <tr style=\"text-align: right;\">\n",
       "      <th></th>\n",
       "      <th>veiculo_licenciado</th>\n",
       "    </tr>\n",
       "  </thead>\n",
       "  <tbody>\n",
       "    <tr>\n",
       "      <th>Licenciado</th>\n",
       "      <td>15906</td>\n",
       "    </tr>\n",
       "    <tr>\n",
       "      <th>NaN</th>\n",
       "      <td>13678</td>\n",
       "    </tr>\n",
       "  </tbody>\n",
       "</table>\n",
       "</div>"
      ],
      "text/plain": [
       "            veiculo_licenciado\n",
       "Licenciado               15906\n",
       "NaN                      13678"
      ]
     },
     "execution_count": 286,
     "metadata": {},
     "output_type": "execute_result"
    }
   ],
   "source": [
    "pd.DataFrame(treino['veiculo_licenciado'].value_counts(dropna = False))"
   ]
  },
  {
   "cell_type": "markdown",
   "id": "df670c0c-bc1a-49cf-bde7-97d078845934",
   "metadata": {},
   "source": [
    "##### O veículo anunciado possui garantia de fábrica ou não"
   ]
  },
  {
   "cell_type": "code",
   "execution_count": 287,
   "id": "2eca4a20-5038-430f-bf88-d56947eefc3f",
   "metadata": {},
   "outputs": [
    {
     "data": {
      "text/html": [
       "<div>\n",
       "<style scoped>\n",
       "    .dataframe tbody tr th:only-of-type {\n",
       "        vertical-align: middle;\n",
       "    }\n",
       "\n",
       "    .dataframe tbody tr th {\n",
       "        vertical-align: top;\n",
       "    }\n",
       "\n",
       "    .dataframe thead th {\n",
       "        text-align: right;\n",
       "    }\n",
       "</style>\n",
       "<table border=\"1\" class=\"dataframe\">\n",
       "  <thead>\n",
       "    <tr style=\"text-align: right;\">\n",
       "      <th></th>\n",
       "      <th>garantia_de_fábrica</th>\n",
       "    </tr>\n",
       "  </thead>\n",
       "  <tbody>\n",
       "    <tr>\n",
       "      <th>NaN</th>\n",
       "      <td>25219</td>\n",
       "    </tr>\n",
       "    <tr>\n",
       "      <th>Garantia de fábrica</th>\n",
       "      <td>4365</td>\n",
       "    </tr>\n",
       "  </tbody>\n",
       "</table>\n",
       "</div>"
      ],
      "text/plain": [
       "                     garantia_de_fábrica\n",
       "NaN                                25219\n",
       "Garantia de fábrica                 4365"
      ]
     },
     "execution_count": 287,
     "metadata": {},
     "output_type": "execute_result"
    }
   ],
   "source": [
    "pd.DataFrame(treino['garantia_de_fábrica'].value_counts(dropna = False))"
   ]
  },
  {
   "cell_type": "markdown",
   "id": "28be9b67-ad1f-467e-828b-a1c8d50f4322",
   "metadata": {},
   "source": [
    "##### As revisões feitas do veículo anunciado foram realizadas dentro da agenda prevista"
   ]
  },
  {
   "cell_type": "code",
   "execution_count": 288,
   "id": "41a04167-a308-4652-a157-5554da0cec60",
   "metadata": {},
   "outputs": [
    {
     "data": {
      "text/html": [
       "<div>\n",
       "<style scoped>\n",
       "    .dataframe tbody tr th:only-of-type {\n",
       "        vertical-align: middle;\n",
       "    }\n",
       "\n",
       "    .dataframe tbody tr th {\n",
       "        vertical-align: top;\n",
       "    }\n",
       "\n",
       "    .dataframe thead th {\n",
       "        text-align: right;\n",
       "    }\n",
       "</style>\n",
       "<table border=\"1\" class=\"dataframe\">\n",
       "  <thead>\n",
       "    <tr style=\"text-align: right;\">\n",
       "      <th></th>\n",
       "      <th>revisoes_dentro_agenda</th>\n",
       "    </tr>\n",
       "  </thead>\n",
       "  <tbody>\n",
       "    <tr>\n",
       "      <th>NaN</th>\n",
       "      <td>23674</td>\n",
       "    </tr>\n",
       "    <tr>\n",
       "      <th>Todas as revisões feitas pela agenda do carro</th>\n",
       "      <td>5910</td>\n",
       "    </tr>\n",
       "  </tbody>\n",
       "</table>\n",
       "</div>"
      ],
      "text/plain": [
       "                                               revisoes_dentro_agenda\n",
       "NaN                                                             23674\n",
       "Todas as revisões feitas pela agenda do carro                    5910"
      ]
     },
     "execution_count": 288,
     "metadata": {},
     "output_type": "execute_result"
    }
   ],
   "source": [
    "pd.DataFrame(treino['revisoes_dentro_agenda'].value_counts(dropna = False))"
   ]
  },
  {
   "cell_type": "markdown",
   "id": "7fcf8f81-6f53-47b7-b1a2-ac36cfe9e1b9",
   "metadata": {},
   "source": [
    "##### O veículo anunciado está alienado ou não"
   ]
  },
  {
   "cell_type": "code",
   "execution_count": 289,
   "id": "19c869a4-19c5-4c14-956f-2622ee47f792",
   "metadata": {},
   "outputs": [
    {
     "data": {
      "text/html": [
       "<div>\n",
       "<style scoped>\n",
       "    .dataframe tbody tr th:only-of-type {\n",
       "        vertical-align: middle;\n",
       "    }\n",
       "\n",
       "    .dataframe tbody tr th {\n",
       "        vertical-align: top;\n",
       "    }\n",
       "\n",
       "    .dataframe thead th {\n",
       "        text-align: right;\n",
       "    }\n",
       "</style>\n",
       "<table border=\"1\" class=\"dataframe\">\n",
       "  <thead>\n",
       "    <tr style=\"text-align: right;\">\n",
       "      <th></th>\n",
       "      <th>veiculo_alienado</th>\n",
       "    </tr>\n",
       "  </thead>\n",
       "  <tbody>\n",
       "    <tr>\n",
       "      <th>NaN</th>\n",
       "      <td>29584</td>\n",
       "    </tr>\n",
       "  </tbody>\n",
       "</table>\n",
       "</div>"
      ],
      "text/plain": [
       "     veiculo_alienado\n",
       "NaN             29584"
      ]
     },
     "execution_count": 289,
     "metadata": {},
     "output_type": "execute_result"
    }
   ],
   "source": [
    "pd.DataFrame(treino['veiculo_alienado'].value_counts(dropna = False))"
   ]
  },
  {
   "cell_type": "markdown",
   "id": "5960236a-d283-40d8-9e13-44db7bd4c352",
   "metadata": {},
   "source": [
    "### Variáveis Numéricas"
   ]
  },
  {
   "cell_type": "markdown",
   "id": "3c506dfd-4679-4d17-9940-68683c72bbd3",
   "metadata": {},
   "source": [
    "Para as variáveis numéricas serão apresentadas as medidas de tendência central e de dispersão bem como histogramas e boxplots para verificarmos como estão distribuídos os dados. Num primeiro momento é exposto quadro resumo com as medidas de tendência central. No segundo momento, os gráficos que indicam as distribuições de cada variável."
   ]
  },
  {
   "cell_type": "markdown",
   "id": "a5af40cc-6401-4654-a8ec-1a683ca58982",
   "metadata": {},
   "source": [
    "#### Quadro resumo das variáveis numéricas"
   ]
  },
  {
   "cell_type": "code",
   "execution_count": 313,
   "id": "f21f5209-6cc3-4642-b573-47ba96d952f7",
   "metadata": {},
   "outputs": [],
   "source": [
    "treino['veiculo_alienado'] = treino['veiculo_alienado'].astype(object)"
   ]
  },
  {
   "cell_type": "code",
   "execution_count": 294,
   "id": "10e3eca3-e228-4d79-a6c8-ead7b30895b1",
   "metadata": {},
   "outputs": [
    {
     "data": {
      "text/html": [
       "<div>\n",
       "<style scoped>\n",
       "    .dataframe tbody tr th:only-of-type {\n",
       "        vertical-align: middle;\n",
       "    }\n",
       "\n",
       "    .dataframe tbody tr th {\n",
       "        vertical-align: top;\n",
       "    }\n",
       "\n",
       "    .dataframe thead th {\n",
       "        text-align: right;\n",
       "    }\n",
       "</style>\n",
       "<table border=\"1\" class=\"dataframe\">\n",
       "  <thead>\n",
       "    <tr style=\"text-align: right;\">\n",
       "      <th></th>\n",
       "      <th>num_fotos</th>\n",
       "      <th>hodometro</th>\n",
       "      <th>num_portas</th>\n",
       "      <th>preco</th>\n",
       "    </tr>\n",
       "  </thead>\n",
       "  <tbody>\n",
       "    <tr>\n",
       "      <th>count</th>\n",
       "      <td>29407.000000</td>\n",
       "      <td>29584.000000</td>\n",
       "      <td>29584.000000</td>\n",
       "      <td>2.958400e+04</td>\n",
       "    </tr>\n",
       "    <tr>\n",
       "      <th>mean</th>\n",
       "      <td>10.323834</td>\n",
       "      <td>58430.592077</td>\n",
       "      <td>3.940677</td>\n",
       "      <td>1.330239e+05</td>\n",
       "    </tr>\n",
       "    <tr>\n",
       "      <th>std</th>\n",
       "      <td>3.487334</td>\n",
       "      <td>32561.769309</td>\n",
       "      <td>0.338360</td>\n",
       "      <td>8.166287e+04</td>\n",
       "    </tr>\n",
       "    <tr>\n",
       "      <th>min</th>\n",
       "      <td>8.000000</td>\n",
       "      <td>100.000000</td>\n",
       "      <td>2.000000</td>\n",
       "      <td>9.869951e+03</td>\n",
       "    </tr>\n",
       "    <tr>\n",
       "      <th>25%</th>\n",
       "      <td>8.000000</td>\n",
       "      <td>31214.000000</td>\n",
       "      <td>4.000000</td>\n",
       "      <td>7.657177e+04</td>\n",
       "    </tr>\n",
       "    <tr>\n",
       "      <th>50%</th>\n",
       "      <td>8.000000</td>\n",
       "      <td>57434.000000</td>\n",
       "      <td>4.000000</td>\n",
       "      <td>1.143558e+05</td>\n",
       "    </tr>\n",
       "    <tr>\n",
       "      <th>75%</th>\n",
       "      <td>14.000000</td>\n",
       "      <td>81953.500000</td>\n",
       "      <td>4.000000</td>\n",
       "      <td>1.636796e+05</td>\n",
       "    </tr>\n",
       "    <tr>\n",
       "      <th>max</th>\n",
       "      <td>21.000000</td>\n",
       "      <td>390065.000000</td>\n",
       "      <td>4.000000</td>\n",
       "      <td>1.359813e+06</td>\n",
       "    </tr>\n",
       "  </tbody>\n",
       "</table>\n",
       "</div>"
      ],
      "text/plain": [
       "          num_fotos      hodometro    num_portas         preco\n",
       "count  29407.000000   29584.000000  29584.000000  2.958400e+04\n",
       "mean      10.323834   58430.592077      3.940677  1.330239e+05\n",
       "std        3.487334   32561.769309      0.338360  8.166287e+04\n",
       "min        8.000000     100.000000      2.000000  9.869951e+03\n",
       "25%        8.000000   31214.000000      4.000000  7.657177e+04\n",
       "50%        8.000000   57434.000000      4.000000  1.143558e+05\n",
       "75%       14.000000   81953.500000      4.000000  1.636796e+05\n",
       "max       21.000000  390065.000000      4.000000  1.359813e+06"
      ]
     },
     "execution_count": 294,
     "metadata": {},
     "output_type": "execute_result"
    }
   ],
   "source": [
    "treino.describe()"
   ]
  },
  {
   "cell_type": "markdown",
   "id": "0f0dbc22-b563-411e-a48e-007a232ca275",
   "metadata": {},
   "source": [
    "Acerca das características dos carros a média de quilometragem dos veículos a venda foi de 58430.59km rodados. A variação da quilometragem foi alta, de 32561.77. Para vender os carros, os anunciantes publicam em média 10 fotos. "
   ]
  },
  {
   "cell_type": "markdown",
   "id": "114eb202-bad9-4570-b217-9724bfffc2af",
   "metadata": {},
   "source": [
    "#### Número de fotos"
   ]
  },
  {
   "cell_type": "code",
   "execution_count": 301,
   "id": "ccc4f810-8dbb-43ed-b176-2a20789b23ae",
   "metadata": {},
   "outputs": [
    {
     "data": {
      "text/plain": [
       "<AxesSubplot:xlabel='num_fotos'>"
      ]
     },
     "execution_count": 301,
     "metadata": {},
     "output_type": "execute_result"
    },
    {
     "data": {
      "image/png": "[encoded data removed]",
      "text/plain": [
       "<Figure size 432x288 with 1 Axes>"
      ]
     },
     "metadata": {
      "needs_background": "light"
     },
     "output_type": "display_data"
    }
   ],
   "source": [
    "sns.violinplot(x=treino[\"num_fotos\"])"
   ]
  },
  {
   "cell_type": "code",
   "execution_count": 304,
   "id": "8d6f3091-a757-439b-895b-12a5b52d501d",
   "metadata": {},
   "outputs": [
    {
     "name": "stderr",
     "output_type": "stream",
     "text": [
      "/Users/pedropietrafesa/opt/anaconda3/lib/python3.9/site-packages/seaborn/distributions.py:2619: FutureWarning: `distplot` is a deprecated function and will be removed in a future version. Please adapt your code to use either `displot` (a figure-level function with similar flexibility) or `histplot` (an axes-level function for histograms).\n",
      "  warnings.warn(msg, FutureWarning)\n",
      "/Users/pedropietrafesa/opt/anaconda3/lib/python3.9/site-packages/seaborn/distributions.py:2103: FutureWarning: The `axis` variable is no longer used and will be removed. Instead, assign variables directly to `x` or `y`.\n",
      "  warnings.warn(msg, FutureWarning)\n"
     ]
    },
    {
     "data": {
      "image/png": "[encoded data removed]",
      "text/plain": [
       "<Figure size 432x288 with 1 Axes>"
      ]
     },
     "metadata": {
      "needs_background": "light"
     },
     "output_type": "display_data"
    }
   ],
   "source": [
    "sns.distplot(treino[\"num_fotos\"], \n",
    "             hist=True, \n",
    "             rug=True, \n",
    "             color=\"b\")\n",
    "plt.show()"
   ]
  },
  {
   "cell_type": "markdown",
   "id": "91a487bd-6954-44f0-b153-cb5b3812d82b",
   "metadata": {},
   "source": [
    "Como pode ser observado dos gráficos, há concentração de dados no entorno de 8 fotos que os anunciantes colocam nos meios de divulgação dos carros.  "
   ]
  },
  {
   "cell_type": "markdown",
   "id": "8602d97b-0018-42be-9154-9bfc468de29a",
   "metadata": {},
   "source": [
    "####  Valor registrado no hodômetro do veículo anunciado"
   ]
  },
  {
   "cell_type": "code",
   "execution_count": 305,
   "id": "2ddddc9b-2c15-4b22-8f22-1a9cbc18991a",
   "metadata": {},
   "outputs": [
    {
     "data": {
      "text/plain": [
       "<AxesSubplot:xlabel='hodometro'>"
      ]
     },
     "execution_count": 305,
     "metadata": {},
     "output_type": "execute_result"
    },
    {
     "data": {
      "image/png": "[encoded data removed]",
      "text/plain": [
       "<Figure size 432x288 with 1 Axes>"
      ]
     },
     "metadata": {
      "needs_background": "light"
     },
     "output_type": "display_data"
    }
   ],
   "source": [
    "sns.violinplot(x=treino[\"hodometro\"])"
   ]
  },
  {
   "cell_type": "code",
   "execution_count": 306,
   "id": "8aa82d66-2348-4ffc-b3ea-30001e016298",
   "metadata": {},
   "outputs": [
    {
     "name": "stderr",
     "output_type": "stream",
     "text": [
      "/Users/pedropietrafesa/opt/anaconda3/lib/python3.9/site-packages/seaborn/distributions.py:2619: FutureWarning: `distplot` is a deprecated function and will be removed in a future version. Please adapt your code to use either `displot` (a figure-level function with similar flexibility) or `histplot` (an axes-level function for histograms).\n",
      "  warnings.warn(msg, FutureWarning)\n",
      "/Users/pedropietrafesa/opt/anaconda3/lib/python3.9/site-packages/seaborn/distributions.py:2103: FutureWarning: The `axis` variable is no longer used and will be removed. Instead, assign variables directly to `x` or `y`.\n",
      "  warnings.warn(msg, FutureWarning)\n"
     ]
    },
    {
     "data": {
      "image/png": "[encoded data removed]",
      "text/plain": [
       "<Figure size 432x288 with 1 Axes>"
      ]
     },
     "metadata": {
      "needs_background": "light"
     },
     "output_type": "display_data"
    }
   ],
   "source": [
    "sns.distplot(treino[\"hodometro\"], \n",
    "             hist=True, \n",
    "             rug=True, \n",
    "             color=\"b\")\n",
    "plt.show()"
   ]
  },
  {
   "cell_type": "markdown",
   "id": "67a16123-5dd3-44a6-8dc6-d94fa7e46330",
   "metadata": {},
   "source": [
    "A quilometragem dos carros a venda no banco de dados está concentrado entre o intervalo de 100 a 150 mil kilometros. Nota-se no no histograma a existência de outliers próximos de 400 mil Kilometros. "
   ]
  },
  {
   "cell_type": "markdown",
   "id": "137b1117-4107-442e-952f-1d22289f050d",
   "metadata": {},
   "source": [
    "#### Número de Portas"
   ]
  },
  {
   "cell_type": "code",
   "execution_count": 307,
   "id": "4fce2e42-20b5-424a-aee4-54574445525b",
   "metadata": {},
   "outputs": [
    {
     "data": {
      "text/plain": [
       "<AxesSubplot:xlabel='num_portas'>"
      ]
     },
     "execution_count": 307,
     "metadata": {},
     "output_type": "execute_result"
    },
    {
     "data": {
      "image/png": "[encoded data removed]",
      "text/plain": [
       "<Figure size 432x288 with 1 Axes>"
      ]
     },
     "metadata": {
      "needs_background": "light"
     },
     "output_type": "display_data"
    }
   ],
   "source": [
    "sns.violinplot(x=treino[\"num_portas\"])"
   ]
  },
  {
   "cell_type": "code",
   "execution_count": 308,
   "id": "eb24b721-07bd-448f-851d-47d5d6ab291b",
   "metadata": {},
   "outputs": [
    {
     "name": "stderr",
     "output_type": "stream",
     "text": [
      "/Users/pedropietrafesa/opt/anaconda3/lib/python3.9/site-packages/seaborn/distributions.py:2619: FutureWarning: `distplot` is a deprecated function and will be removed in a future version. Please adapt your code to use either `displot` (a figure-level function with similar flexibility) or `histplot` (an axes-level function for histograms).\n",
      "  warnings.warn(msg, FutureWarning)\n",
      "/Users/pedropietrafesa/opt/anaconda3/lib/python3.9/site-packages/seaborn/distributions.py:2103: FutureWarning: The `axis` variable is no longer used and will be removed. Instead, assign variables directly to `x` or `y`.\n",
      "  warnings.warn(msg, FutureWarning)\n"
     ]
    },
    {
     "data": {
      "image/png": "[encoded data removed]",
      "text/plain": [
       "<Figure size 432x288 with 1 Axes>"
      ]
     },
     "metadata": {
      "needs_background": "light"
     },
     "output_type": "display_data"
    }
   ],
   "source": [
    "sns.distplot(treino[\"num_portas\"], \n",
    "             hist=True, \n",
    "             rug=True, \n",
    "             color=\"b\")\n",
    "plt.show()"
   ]
  },
  {
   "cell_type": "code",
   "execution_count": 295,
   "id": "10049fa7-663e-43da-9b93-c62530c51dd3",
   "metadata": {},
   "outputs": [
    {
     "data": {
      "text/html": [
       "<div>\n",
       "<style scoped>\n",
       "    .dataframe tbody tr th:only-of-type {\n",
       "        vertical-align: middle;\n",
       "    }\n",
       "\n",
       "    .dataframe tbody tr th {\n",
       "        vertical-align: top;\n",
       "    }\n",
       "\n",
       "    .dataframe thead th {\n",
       "        text-align: right;\n",
       "    }\n",
       "</style>\n",
       "<table border=\"1\" class=\"dataframe\">\n",
       "  <thead>\n",
       "    <tr style=\"text-align: right;\">\n",
       "      <th></th>\n",
       "      <th>num_portas</th>\n",
       "    </tr>\n",
       "  </thead>\n",
       "  <tbody>\n",
       "    <tr>\n",
       "      <th>4</th>\n",
       "      <td>28697</td>\n",
       "    </tr>\n",
       "    <tr>\n",
       "      <th>2</th>\n",
       "      <td>868</td>\n",
       "    </tr>\n",
       "    <tr>\n",
       "      <th>3</th>\n",
       "      <td>19</td>\n",
       "    </tr>\n",
       "  </tbody>\n",
       "</table>\n",
       "</div>"
      ],
      "text/plain": [
       "   num_portas\n",
       "4       28697\n",
       "2         868\n",
       "3          19"
      ]
     },
     "execution_count": 295,
     "metadata": {},
     "output_type": "execute_result"
    }
   ],
   "source": [
    "pd.DataFrame(treino['num_portas'].value_counts(dropna = False))"
   ]
  },
  {
   "cell_type": "markdown",
   "id": "acf2015e-42e8-4b1e-a945-565029dc5e48",
   "metadata": {},
   "source": [
    "A variável número de portas poderia ser modificada e transformada em categórica. Ela foi registrada como numérica inteira, mas na prática indica mais a qualificação da estrutura do carro do que um dado de contagem. Dito isso, percebe-se a predominância de carros quatro portas sendo anunciados."
   ]
  },
  {
   "cell_type": "markdown",
   "id": "7f5ff6d5-dfad-4a22-a3fb-4dc406d9c062",
   "metadata": {},
   "source": [
    "# Imputação de dados"
   ]
  },
  {
   "cell_type": "markdown",
   "id": "04f22911-f786-4f3e-a591-90e0c3fc4501",
   "metadata": {},
   "source": [
    "Realizando a imputação dos dados na variável \"num_fotos\" e retirando do _dataset_ as variáveis com número percentagem acima de 25% de dados faltantes. "
   ]
  },
  {
   "cell_type": "code",
   "execution_count": 113,
   "id": "ef30854c-3b7a-4448-a20e-7fd6d7727548",
   "metadata": {},
   "outputs": [],
   "source": [
    "# Cirando uma nova base de dados sem as variáveis com mais de 25% de dados faltantes\n",
    "x = treino.drop(columns=['dono_aceita_troca', 'veiculo_único_dono', 'revisoes_concessionaria', 'ipva_pago',\n",
    "                      'veiculo_licenciado', 'garantia_de_fábrica', 'revisoes_dentro_agenda',\n",
    "                      'veiculo_alienado'], axis=1)\n",
    "\n",
    "\n",
    "# Imputação dos dados\n",
    "\n",
    "x1 = x[['num_fotos', 'num_portas']]\n",
    "\n",
    "## Utilizando a técnica do missForest\n",
    "imputer = MissForest()   \n",
    "data = pd.DataFrame(imputer.fit_transform(x1))\n",
    "\n",
    "### Reorganizando a base de dados\n",
    "data = data.rename(columns={data.columns[0]: 'num_fotos',data.columns[1]: 'num_portas'})\n",
    "x = x.drop(columns=['num_fotos'], axis=1)\n",
    "d = data[[\"num_fotos\"]]\n",
    "x.insert(1, \"num_fotos\", d)\n",
    "\n",
    "# Verifciando se todas as variáveis possuem as 29584 observações\n",
    "x.info()"
   ]
  }
 ],
 "metadata": {
  "kernelspec": {
   "display_name": "Python 3 (ipykernel)",
   "language": "python",
   "name": "python3"
  },
  "language_info": {
   "codemirror_mode": {
    "name": "ipython",
    "version": 3
   },
   "file_extension": ".py",
   "mimetype": "text/x-python",
   "name": "python",
   "nbconvert_exporter": "python",
   "pygments_lexer": "ipython3",
   "version": "3.9.7"
  },
  "toc-autonumbering": true,
  "toc-showcode": false,
  "toc-showmarkdowntxt": true
 },
 "nbformat": 4,
 "nbformat_minor": 5
}
